{
 "cells": [
  {
   "cell_type": "markdown",
   "metadata": {},
   "source": [
    "# Suppression of the laser light fluctuations in a wide-field iSCAT measurement \n",
    "In this tutorial, we normalize the recorded power in each video frame in order to suppress the temporal instability of the laser light. By doing so we also touch upon the usage of some of the very basic PiSCAT packages such as the  [InputOutput module](https://piscat.readthedocs.io/code_reference.html#piscat-inputoutput) which provides functionalities for loading iSCAT videos and performing some basic checks on the acquisition process through the recorded meta-data. The [Visualization module](https://piscat.readthedocs.io/code_reference.html#piscat-visualization) provides a variety of data visualization tools for inspecting iSCAT videos and presentating the analysis results. The normalization of laser light fluctuations is one of the early-stage analysis tools that are in the [Preprocessing module](https://piscat.readthedocs.io/code_reference.html#piscat-preproccessing). Based on the number of available CPU cores for parallel processing, this tutorial needs 2-3 GB of computer memory (RAM) to run."
   ]
  },
  {
   "cell_type": "markdown",
   "metadata": {},
   "source": [
    "## Setting up the PiSCAT modules and downloading a demo iSCAT video"
   ]
  },
  {
   "cell_type": "code",
   "execution_count": 2,
   "metadata": {},
   "outputs": [
    {
     "ename": "ModuleNotFoundError",
     "evalue": "No module named 'piscat'",
     "output_type": "error",
     "traceback": [
      "\u001b[1;31m---------------------------------------------------------------------------\u001b[0m",
      "\u001b[1;31mModuleNotFoundError\u001b[0m                       Traceback (most recent call last)",
      "\u001b[1;32m<ipython-input-2-95c7ac7e2190>\u001b[0m in \u001b[0;36m<module>\u001b[1;34m\u001b[0m\n\u001b[0;32m     13\u001b[0m \u001b[1;33m\u001b[0m\u001b[0m\n\u001b[0;32m     14\u001b[0m \u001b[1;31m# Downloading a blank video for this tutorial\u001b[0m\u001b[1;33m\u001b[0m\u001b[1;33m\u001b[0m\u001b[1;33m\u001b[0m\u001b[0m\n\u001b[1;32m---> 15\u001b[1;33m \u001b[1;32mfrom\u001b[0m \u001b[0mpiscat\u001b[0m\u001b[1;33m.\u001b[0m\u001b[0mInputOutput\u001b[0m \u001b[1;32mimport\u001b[0m \u001b[0mdownload_tutorial_data\u001b[0m\u001b[1;33m\u001b[0m\u001b[1;33m\u001b[0m\u001b[0m\n\u001b[0m\u001b[0;32m     16\u001b[0m \u001b[0mdownload_tutorial_data\u001b[0m\u001b[1;33m(\u001b[0m\u001b[1;34m'control_video'\u001b[0m\u001b[1;33m)\u001b[0m\u001b[1;33m\u001b[0m\u001b[1;33m\u001b[0m\u001b[0m\n",
      "\u001b[1;31mModuleNotFoundError\u001b[0m: No module named 'piscat'"
     ]
    }
   ],
   "source": [
    "# Only to ignore warnings \n",
    "import warnings\n",
    "warnings.filterwarnings('ignore')\n",
    "\n",
    "# Setting up the path to the PiSCAT modules\n",
    "import os\n",
    "import sys\n",
    "current_path = os.path.abspath(os.path.join('..'))\n",
    "dir_path = os.path.dirname(current_path)\n",
    "module_path = os.path.join(dir_path)\n",
    "if module_path not in sys.path:\n",
    "    sys.path.append(module_path)\n",
    "    \n",
    "# Downloading a blank video for this tutorial\n",
    "from piscat.InputOutput import download_tutorial_data\n",
    "download_tutorial_data('control_video')"
   ]
  },
  {
   "cell_type": "markdown",
   "metadata": {},
   "source": [
    "## The binary iSCAT videos in a path and loading videos \n",
    "In this section, we tabulate all the image and video files of a certain data type which are available in a particular path and demonstrate how to read one exemplary video. We mainly use PhotonFocus cameras and store its recordings as binary files. Here we work on the video that was downloaded earlier. "
   ]
  },
  {
   "cell_type": "code",
   "execution_count": null,
   "metadata": {},
   "outputs": [],
   "source": [
    "import numpy as np\n",
    "from piscat.InputOutput import reading_videos\n",
    "\n",
    "#Setting up the path to a data set of the type 'raw' in a particular path 'data_path'\n",
    "data_path = os.path.join(dir_path, 'Tutorials', 'Demo data', 'Control')\n",
    "df_video = reading_videos.DirectoryType(data_path, type_file='raw').return_df()\n",
    "paths = df_video['Directory'].tolist()\n",
    "video_names = df_video['File'].tolist()\n",
    "\n",
    "#Choosing the first entry in the video list and loading it\n",
    "demo_video_path = os.path.join(paths[0], video_names[0])\n",
    "video = reading_videos.video_reader(file_name=demo_video_path, type='binary', img_width=128, img_height=128, \n",
    "                                    image_type=np.dtype('<u2'), s_frame=0, e_frame=-1)\n",
    "\n",
    "help(reading_videos.video_reader)#Calling help on an imported module/class to know more about it.\n"
   ]
  },
  {
   "cell_type": "markdown",
   "metadata": {},
   "source": [
    "## Display and inspect a loaded video\n",
    "As mentioned earlier, the [Visualization module](https://piscat.readthedocs.io/code_reference.html#piscat-visualization) consists of several classes which provide display functionalities. Some of these classes may have the word `jupyter` in their name, for example, `display_jupyter`. The reason behind this is that such a class has functionalities similar to its twin class namely `display`, but adjusted to be used in Jupyter notebooks. The median filter flag passed as an argument to the display classes can be used to achieve a proper visualization of a video albeit having hot or dead pixels. In order to scroll left/right through the video frames, you can use the mouse wheel as well as the keyboard arrows button. The last line in these images is the meta-data of the measurement that the PhotonFocus camera records in each frame as the status-line."
   ]
  },
  {
   "cell_type": "code",
   "execution_count": null,
   "metadata": {},
   "outputs": [],
   "source": [
    "#For Jupyter notebooks only:\n",
    "%matplotlib inline\n",
    "\n",
    "from piscat.Visualization import JupyterDisplay_StatusLine\n",
    "JupyterDisplay_StatusLine(video, median_filter_flag=False, color='gray', imgSizex=5, imgSizey=5, IntSlider_width='500px', \n",
    "                          step=1)"
   ]
  },
  {
   "cell_type": "markdown",
   "metadata": {},
   "source": [
    "## Examining the status line & removing it\n",
    "The status of the frame-acquisition process is encoded in the status line at the last row of an image. We check out the status line to make sure that all the images are recorded properly in high frame rate measurements. In such measurements, the acquisition buffer can overflow and some frames could be missed in the recording process."
   ]
  },
  {
   "cell_type": "code",
   "execution_count": null,
   "metadata": {},
   "outputs": [],
   "source": [
    "from piscat.InputOutput import read_status_line\n",
    "from piscat.Visualization import JupyterDisplay\n",
    "from IPython.display import display\n",
    "\n",
    "status_ = read_status_line.StatusLine(video)\n",
    "video_remove_status, status_information  = status_.find_status_line()\n",
    "\n",
    "JupyterDisplay(video_remove_status, median_filter_flag=False, color='gray', imgSizex=5, imgSizey=5, IntSlider_width='500px', \n",
    "               step=10)"
   ]
  },
  {
   "cell_type": "markdown",
   "metadata": {},
   "source": [
    "## Normalization of the power in the frames of a video\n",
    "The [Preprocessing module](https://piscat.readthedocs.io/code_reference.html#piscat-preproccessing) provides several normalization techniques. In the following step, we correct for the fluctuations in the laser light intensity. The summation of all the pixels in an image is the recorded power $P$ in that frame which is then used to form the average frame power in a video through $\\overline{P}$. The corresponding normalization subroutine returns both the power normalized video and the fluctuations in power given by $P/\\overline{P} -1$ [[1](http://iopscience.iop.org/article/10.1088/1361-6463/ac2f68)]. The fluctuating trend as demonstrated below is in the order of 1E-3 which is in and above the range of contrasts that we expect from single proteins of mass few tens of kDa."
   ]
  },
  {
   "cell_type": "code",
   "execution_count": null,
   "metadata": {},
   "outputs": [],
   "source": [
    "# Normalization of the power in the frames of a video\n",
    "from piscat.Preproccessing import Normalization\n",
    "video_pn, power_fluctuation = Normalization(video=video_remove_status).power_normalized()\n",
    "\n",
    "import matplotlib.pyplot as plt\n",
    "plt.plot(power_fluctuation, 'b', linewidth=1, markersize=0.5)\n",
    "plt.xlabel('Frame #', fontsize=18)\n",
    "plt.ylabel(r\"$p / \\bar p - 1$\", fontsize=18)\n",
    "plt.title('Intensity fluctuations in the laser beam', fontsize=13)\n",
    "plt.ticklabel_format(style='sci', axis='y', scilimits=(0, 0))"
   ]
  },
  {
   "cell_type": "markdown",
   "metadata": {},
   "source": [
    "## Save a video\n",
    "Finally, we save an analyzed video again as a binary file in order to demonstrate video writing functionalities of the [InputOutput module](https://piscat.readthedocs.io/code_reference.html#piscat-inputoutput)."
   ]
  },
  {
   "cell_type": "code",
   "execution_count": null,
   "metadata": {},
   "outputs": [],
   "source": [
    "from piscat.InputOutput import write_video\n",
    "write_video.write_binary(dir_path=data_path, file_name='demo_1_output.bin', data=video_remove_status, type='original')"
   ]
  },
  {
   "cell_type": "markdown",
   "metadata": {},
   "source": [
    "### Bibliography\n",
    "1. [Mirzaalian Dastjerdi, Houman, et al. \"Optimized analysis for sensitive detection and analysis of single proteins via interferometric scattering microscopy.\" Journal of Physics D: Applied Physics (2021).](http://iopscience.iop.org/article/10.1088/1361-6463/ac2f68)"
   ]
  }
 ],
 "metadata": {
  "hide_input": false,
  "kernelspec": {
   "display_name": "Python 3 (ipykernel)",
   "language": "python",
   "name": "python3"
  },
  "language_info": {
   "codemirror_mode": {
    "name": "ipython",
    "version": 3
   },
   "file_extension": ".py",
   "mimetype": "text/x-python",
   "name": "python",
   "nbconvert_exporter": "python",
   "pygments_lexer": "ipython3",
   "version": "3.9.5"
  }
 },
 "nbformat": 4,
 "nbformat_minor": 4
}
