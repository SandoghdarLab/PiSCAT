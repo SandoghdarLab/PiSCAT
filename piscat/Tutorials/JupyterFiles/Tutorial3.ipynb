{
 "cells": [
  {
   "cell_type": "markdown",
   "metadata": {
    "hideCode": false,
    "hidePrompt": false
   },
   "source": [
    "# Tutorial for the correction of the fixed pattern noise in iSCAT images recorded using a sCMOS camera\n",
    "\n",
    "The weak residual stripes [[1](https://iopscience.iop.org/article/10.1088/1361-6463/ac2f68)] remaining after Differential Rolling Average ([DRA](https://piscat.readthedocs.io/code_reference.html#piscat.BackgroundCorrection.DifferentialRollingAverage)) are called fixed pattern noise (FPN). A modern CMOS camera typically uses multiple ADCs to improve the imaging speed. The mismatch between the gain and bias of the ADCs [[2](https://ieeexplore.ieee.org/stamp/stamp.jsp?tp=&arnumber=4014637)] however leaves a FPN on the recorded images. The problem is that the gain and bias parameters temporally fluctuate and therefore FPN is visible even after the subtraction of two consecutive images from each other. The periodicity of such a pattern in our [imaging condition](https://piscat.readthedocs.io/tutorials.html) is about ten pixels which is in the order of the size of a diffraction-limited spot (DLS) of a nano-scatterer. We therefore discuss the effect of FPN on the noise floor behaviour as well as PSF detection sensitivity. We then use a variety of PiSCAT algorithmic approaches based on \n",
    "[wavelet transform](https://piscat.readthedocs.io/code_reference.html#piscat.Preproccessing.FrequencyFPNc.update_wFPN) \n",
    "[[3](https://www.sciencedirect.com/science/article/abs/pii/S0923596517301522)], [Fourier transform](https://piscat.readthedocs.io/code_reference.html#piscat.Preproccessing.FrequencyFPNc.update_fFPN)[[4](https://www.mdpi.com/1424-8220/18/12/4299)] and [column projection FPN filtering](https://piscat.readthedocs.io/code_reference.html#piscat.Preproccessing.MedianProjectionFPNc) in order to correct for the FPN in the DRA frames."
   ]
  },
  {
   "cell_type": "markdown",
   "metadata": {
    "hideCode": false,
    "hidePrompt": false
   },
   "source": [
    "### Previously ...\n",
    "\n",
    "In the previous tutorials, we demonstrated how to use PiSCAT's APIs for [setting up the PiSCAT modules and downloading a demo iSCAT video](https://piscat.readthedocs.io/Tutorial1/Tutorial1.html#setting-up-the-piscat-modules-and-downloading-a-demo-iscat-video), [performing basic checks on the acquisition process](https://piscat.readthedocs.io/Tutorial1/Tutorial1.html#examining-the-status-line-removing-it), [suppressing the temporal instability of the laser light](https://piscat.readthedocs.io/Tutorial1/Tutorial1.html#normalization-of-the-power-in-the-frames-of-a-video) and [basic data visualization](https://piscat.readthedocs.io/Tutorial1/Tutorial1.html#display-and-inspect-a-loaded-video). Furthermore, finally we investigated [the noise floor trend](https://piscat.readthedocs.io/Tutorial2/Tutorial2.html#the-effect-of-power-normalization-on-the-detection-limit) along with computing the Differential Rolling Average [DRA](https://piscat.readthedocs.io/Tutorial2/Tutorial2.html#frame-averaging-to-boost-snr-of-imaged-proteins-followed-by-visualization-of-their-signal-via-differential-imaging) of the frames.\n"
   ]
  },
  {
   "cell_type": "code",
   "execution_count": 1,
   "metadata": {
    "hideCode": false,
    "hidePrompt": false,
    "pycharm": {
     "name": "#%%\n"
    }
   },
   "outputs": [
    {
     "name": "stdout",
     "output_type": "stream",
     "text": [
      "\n",
      "The directory with the name  Demo data  already exists in the following path: F:\\PiSCAT_GitHub_development\\PiSCAT-Development\\Tutorials\n",
      "\n",
      "The data file named  Control  already exists in the following path: F:\\PiSCAT_GitHub_development\\PiSCAT-Development\\Tutorials\\Demo data\n",
      "---Status line detected in column---\n",
      "\n",
      "start power_normalized without parallel loop---> Done\n",
      "\n",
      "--- start DRA ---\n"
     ]
    },
    {
     "data": {
      "application/vnd.jupyter.widget-view+json": {
       "model_id": "0dabbd58f46e481190c5cb6c830fce2b",
       "version_major": 2,
       "version_minor": 0
      },
      "text/plain": [
       "  0%|          | 0/4758 [00:00<?, ?it/s]"
      ]
     },
     "metadata": {},
     "output_type": "display_data"
    }
   ],
   "source": [
    "# Only to ignore warnings \n",
    "import warnings\n",
    "warnings.filterwarnings('ignore')\n",
    "\n",
    "# Setting up the path to the PiSCAT modules\n",
    "import os\n",
    "import sys\n",
    "current_path = os.path.abspath(os.path.join('..'))\n",
    "dir_path = os.path.dirname(current_path)\n",
    "module_path = os.path.join(dir_path)\n",
    "data_path = os.path.join(dir_path, 'Tutorials', 'Demo data')#The path to the demo data\n",
    "if module_path not in sys.path:\n",
    "    sys.path.append(module_path)\n",
    "    \n",
    "# Downloading a control video for this tutorial \n",
    "from piscat.InputOutput import download_tutorial_data\n",
    "download_tutorial_data('control_video')    \n",
    "\n",
    "# Examining the status line in a loaded/downloaded video and removing the status line, PN+DRA\n",
    "from piscat.InputOutput import reading_videos\n",
    "from piscat.Visualization import JupyterDisplay\n",
    "from piscat.InputOutput import read_status_line\n",
    "from piscat.Preproccessing import normalization\n",
    "from piscat.BackgroundCorrection import DifferentialRollingAverage\n",
    "import numpy as np\n",
    "\n",
    "df_video = reading_videos.DirectoryType(data_path, type_file='raw').return_df()\n",
    "paths = df_video['Directory'].tolist()\n",
    "video_names = df_video['File'].tolist()\n",
    "demo_video_path = os.path.join(paths[0], video_names[0])#Selecting the first entry in the list\n",
    "video = reading_videos.video_reader(file_name=demo_video_path, type='binary', img_width=128, img_height=128, \n",
    "                                    image_type=np.dtype('<u2'), s_frame=0, e_frame=-1)#Loading the video\n",
    "status_ = read_status_line.StatusLine(video)#Reading the status line\n",
    "video_remove_status, status_information  = status_.find_status_line()#Examining the status line & removing it\n",
    "video_pn, _ = normalization.Normalization(video=video_remove_status).power_normalized()\n",
    "DRA_PN = DifferentialRollingAverage(video=video_pn, batchSize=120)\n",
    "RVideo_PN_, gainMap1D_DRA = DRA_PN.differential_rolling(FPN_flag=False, FFT_flag=False)"
   ]
  },
  {
   "cell_type": "markdown",
   "metadata": {},
   "source": [
    "### Median Projection FPN Correction (mFPNc)\n",
    "To obtain the simplest and easiest correction approach for lowering the additive element of FPN, subtract the median of each column from the corresponding ones in a differential image formed from the difference of two successive batches B 1 and B 2 of raw frames [[1](https://iopscience.iop.org/article/10.1088/1361-6463/ac2f68)].\n",
    "\n",
    "To optimize the computational performance, FPNc algorithms and [DifferentialRollingAverage](https://piscat.readthedocs.io/code_reference.html#piscat.BackgroundCorrection.DifferentialRollingAverage) have been integrated inside the same class."
   ]
  },
  {
   "cell_type": "markdown",
   "metadata": {},
   "source": [
    "<img src=\"Fig/mFPN.png\" width=\"750\">"
   ]
  },
  {
   "cell_type": "code",
   "execution_count": 2,
   "metadata": {},
   "outputs": [
    {
     "name": "stdout",
     "output_type": "stream",
     "text": [
      "\n",
      "--- start DRA + mFPN_axis: Both---\n"
     ]
    },
    {
     "data": {
      "application/vnd.jupyter.widget-view+json": {
       "model_id": "4e66b837575b4038a48770c1eab5991a",
       "version_major": 2,
       "version_minor": 0
      },
      "text/plain": [
       "  0%|          | 0/4758 [00:00<?, ?it/s]"
      ]
     },
     "metadata": {},
     "output_type": "display_data"
    },
    {
     "name": "stdout",
     "output_type": "stream",
     "text": [
      "\n",
      "median FPN correction without parallel loop ---> "
     ]
    },
    {
     "data": {
      "application/vnd.jupyter.widget-view+json": {
       "model_id": "245a35df0ecd477ab8a89ed00fe2b278",
       "version_major": 2,
       "version_minor": 0
      },
      "text/plain": [
       "  0%|          | 0/4759 [00:00<?, ?it/s]"
      ]
     },
     "metadata": {},
     "output_type": "display_data"
    },
    {
     "name": "stdout",
     "output_type": "stream",
     "text": [
      "Done\n",
      "\n",
      "median FPN correction without parallel loop ---> "
     ]
    },
    {
     "data": {
      "application/vnd.jupyter.widget-view+json": {
       "model_id": "ef2afc40ffff4f23b649b3946bbee646",
       "version_major": 2,
       "version_minor": 0
      },
      "text/plain": [
       "  0%|          | 0/4759 [00:00<?, ?it/s]"
      ]
     },
     "metadata": {},
     "output_type": "display_data"
    },
    {
     "name": "stdout",
     "output_type": "stream",
     "text": [
      "Done\n"
     ]
    }
   ],
   "source": [
    "DRA_PN_mFPNc = DifferentialRollingAverage(video=video_pn, batchSize=120, mode_FPN='mFPN')\n",
    "RVideo_PN_mFPNc, gainMap1D_mFPN = DRA_PN_mFPNc.differential_rolling(FPN_flag=True, \n",
    "                                                                  select_correction_axis='Both', \n",
    "                                                                  FFT_flag=False)"
   ]
  },
  {
   "cell_type": "markdown",
   "metadata": {
    "hideCode": false,
    "hidePrompt": false,
    "pycharm": {
     "name": "#%% md\n"
    }
   },
   "source": [
    "### mFPN mean-signature\n",
    "\n",
    "For each correction axis (column or row), the `DifferentialRollingAverage` class returns the corrected video (RVideo_PN_mFPNc) and a set of 1D mean-signatures. These projections assist users in visualizing the impact of FPN. One of these signatures for mFPN correction is plotted in the following cell."
   ]
  },
  {
   "cell_type": "code",
   "execution_count": 3,
   "metadata": {
    "hideCode": false,
    "hidePrompt": false,
    "pycharm": {
     "name": "#%%\n"
    }
   },
   "outputs": [
    {
     "data": {
      "image/png": "[encoded data removed]",
      "text/plain": [
       "<Figure size 432x288 with 1 Axes>"
      ]
     },
     "metadata": {
      "needs_background": "light"
     },
     "output_type": "display_data"
    }
   ],
   "source": [
    "# plotting 1D projection of the first frame for the corrected axis\n",
    "import matplotlib.pyplot as plt\n",
    "\n",
    "# For Jupyter notebooks only:\n",
    "%matplotlib inline\n",
    "plt.plot(gainMap1D_mFPN[0][500])\n",
    "plt.xlabel('Pixels')\n",
    "plt.ylabel('cpFPN projection of DRA')\n",
    "plt.ticklabel_format(style='sci', axis='y', scilimits=(0, 0))\n"
   ]
  },
  {
   "cell_type": "markdown",
   "metadata": {
    "hideCode": false,
    "hidePrompt": false
   },
   "source": [
    "### Column Projection FPN Correction (cpFPNc)\n",
    "\n",
    "This is a heuristic algorithm in which we first extract the median signature of the column noise by just calculating the median of the image columns as shown in the figure below (subfigure (a)). The image that we work on is a differential image made from two batches B_1 and B_2 of raw frames using the [Differential Rolling Average](https://piscat.readthedocs.io/code_reference.html#piscat.BackgroundCorrection.DifferentialRollingAverage) processing. We note that the median value of pixels in a column will not contain the signal of a particle present in the field of view. This is demonstrated using the blue circles in the figure which encircle the particle's signal in all the steps. The 1D projection plot shows the pixel values with blue dots, the median profile with a red trace and the two upper and lower Median Absolute Deviation (MAD) profiles with black traces. The pixel values corresponding to the blue circle region are above the median and the MAD bands. We then build a binary mask per column, with a threshold value similar to the MAD value. Multiplying the binary mask by the differential image results in a Masked Difference (MD) image. In this manner, we end up partitioning a group of pixels in a column which has values close to their median value, thus omitting the particle's signal. The region marked with the blue circle in the binary mask has zero values and therefore the particle signal is missing in the MD image.\n",
    "\n",
    "As illustrated in subfigure (b), we compute the column-wise mean of the MD image to obtain the FPN mean-signature with sub-gray level precision. Replicating the 1D mean signature gives us a 2D-FPN map. Finally as shown in subfigure (c), we remove 2D-FPN map from the difference image to get the FPN corrected differential image. "
   ]
  },
  {
   "cell_type": "markdown",
   "metadata": {},
   "source": [
    "<img src=\"Fig/cpFPN.png\" width=\"750\">"
   ]
  },
  {
   "cell_type": "code",
   "execution_count": 4,
   "metadata": {
    "hideCode": false,
    "hidePrompt": false
   },
   "outputs": [
    {
     "name": "stdout",
     "output_type": "stream",
     "text": [
      "\n",
      "--- start DRA + cpFPN_axis: Both---\n"
     ]
    },
    {
     "data": {
      "application/vnd.jupyter.widget-view+json": {
       "model_id": "77d6d13e6f824a2b9254650e0cb99b24",
       "version_major": 2,
       "version_minor": 0
      },
      "text/plain": [
       "  0%|          | 0/4758 [00:00<?, ?it/s]"
      ]
     },
     "metadata": {},
     "output_type": "display_data"
    },
    {
     "name": "stdout",
     "output_type": "stream",
     "text": [
      "\n",
      "cpFPN correction without parallel loop ---> "
     ]
    },
    {
     "data": {
      "application/vnd.jupyter.widget-view+json": {
       "model_id": "6ad8284a06484e00bf4c00a789fb3254",
       "version_major": 2,
       "version_minor": 0
      },
      "text/plain": [
       "  0%|          | 0/4759 [00:00<?, ?it/s]"
      ]
     },
     "metadata": {},
     "output_type": "display_data"
    },
    {
     "name": "stdout",
     "output_type": "stream",
     "text": [
      "Done\n",
      "\n",
      "cpFPN correction without parallel loop ---> "
     ]
    },
    {
     "data": {
      "application/vnd.jupyter.widget-view+json": {
       "model_id": "93d3bb67b41e4789a033bc12a6be35d7",
       "version_major": 2,
       "version_minor": 0
      },
      "text/plain": [
       "  0%|          | 0/4759 [00:00<?, ?it/s]"
      ]
     },
     "metadata": {},
     "output_type": "display_data"
    },
    {
     "name": "stdout",
     "output_type": "stream",
     "text": [
      "Done\n"
     ]
    }
   ],
   "source": [
    "DRA_PN_cpFPNc = DifferentialRollingAverage(video=video_pn, batchSize=120, mode_FPN='cpFPN')\n",
    "RVideo_PN_cpFPNc, gainMap1D_cpFPN = DRA_PN_cpFPNc.differential_rolling(FPN_flag=True, \n",
    "                                                                      select_correction_axis='Both', \n",
    "                                                                      FFT_flag=False)"
   ]
  },
  {
   "cell_type": "markdown",
   "metadata": {},
   "source": [
    "### FFT fixed pattern noise correction (fFPNc):\n"
   ]
  },
  {
   "cell_type": "markdown",
   "metadata": {},
   "source": [
    "The new method introduced by Zeng, Qingjie, et al.[[3](https://www.mdpi.com/1424-8220/18/12/4299)] separates image structures from column-wise pattern by windowing in the spectral domain. By using an iterative two-stage filtering technique, the algorithm was able to eliminate stripe nonuniformity from coarse to fine. By combining spectral and spatial filtering, this approach preserves image information. The details of this method are depicted in the diagram below."
   ]
  },
  {
   "cell_type": "markdown",
   "metadata": {},
   "source": [
    "<img src=\"Fig/fFPN.png\" width=\"900\">"
   ]
  },
  {
   "cell_type": "code",
   "execution_count": 5,
   "metadata": {
    "pycharm": {
     "is_executing": true
    }
   },
   "outputs": [
    {
     "name": "stdout",
     "output_type": "stream",
     "text": [
      "\n",
      "--- start DRA + fFPN_axis: Both---\n"
     ]
    },
    {
     "data": {
      "application/vnd.jupyter.widget-view+json": {
       "model_id": "78dbd277a34f43e7890cac40167e9445",
       "version_major": 2,
       "version_minor": 0
      },
      "text/plain": [
       "  0%|          | 0/4758 [00:00<?, ?it/s]"
      ]
     },
     "metadata": {},
     "output_type": "display_data"
    },
    {
     "name": "stdout",
     "output_type": "stream",
     "text": [
      "\n",
      "---start fFPNc without Parallel---\n"
     ]
    },
    {
     "data": {
      "application/vnd.jupyter.widget-view+json": {
       "model_id": "c7126857b4e6470d9b16efd50c340b0d",
       "version_major": 2,
       "version_minor": 0
      },
      "text/plain": [
       "  0%|          | 0/4759 [00:00<?, ?it/s]"
      ]
     },
     "metadata": {},
     "output_type": "display_data"
    },
    {
     "name": "stdout",
     "output_type": "stream",
     "text": [
      "\n",
      "---start fFPNc without Parallel---\n"
     ]
    },
    {
     "data": {
      "application/vnd.jupyter.widget-view+json": {
       "model_id": "b9ea4efbe16f4f4684d1ae055133bc2e",
       "version_major": 2,
       "version_minor": 0
      },
      "text/plain": [
       "  0%|          | 0/4759 [00:00<?, ?it/s]"
      ]
     },
     "metadata": {},
     "output_type": "display_data"
    }
   ],
   "source": [
    "DRA_PN_wFPN = DifferentialRollingAverage(video=video_pn, batchSize=120, mode_FPN='fFPN')\n",
    "RVideo_PN_fFPN, gainMap1D_fFPN = DRA_PN_wFPN.differential_rolling(FPN_flag=True, select_correction_axis='Both', \n",
    "                                                                 FFT_flag=False, inter_flag_parallel_active=False,\n",
    "                                                                    max_iterations=30)"
   ]
  },
  {
   "cell_type": "markdown",
   "metadata": {
    "hideCode": false,
    "hidePrompt": false,
    "pycharm": {
     "name": "#%% md\n"
    }
   },
   "source": [
    "### Display and compare different FPNc:\n",
    "\n",
    "The [JupyterFPNcDisplay](https://piscat.readthedocs.io/code_reference.html#piscat.Visualization.JupyterFPNcDisplay) class in ``display_jupyter``, is developed for visualization of different FPNc videos. For each FPN correction method, images are projected along the columns/rows and plotted with blue dots. For each column, we obtain the mean of those pixel values which is plotted in red."
   ]
  },
  {
   "cell_type": "code",
   "execution_count": 1,
   "metadata": {
    "hideCode": false,
    "hidePrompt": false,
    "pycharm": {
     "name": "#%%\n"
    },
    "slideshow": {
     "slide_type": "fragment"
    }
   },
   "outputs": [
    {
     "ename": "ModuleNotFoundError",
     "evalue": "No module named 'piscat'",
     "output_type": "error",
     "traceback": [
      "\u001b[1;31m---------------------------------------------------------------------------\u001b[0m",
      "\u001b[1;31mModuleNotFoundError\u001b[0m                       Traceback (most recent call last)",
      "\u001b[1;32m~\\AppData\\Local\\Temp/ipykernel_4672/3151896100.py\u001b[0m in \u001b[0;36m<module>\u001b[1;34m\u001b[0m\n\u001b[1;32m----> 1\u001b[1;33m \u001b[1;32mfrom\u001b[0m \u001b[0mpiscat\u001b[0m\u001b[1;33m.\u001b[0m\u001b[0mVisualization\u001b[0m \u001b[1;32mimport\u001b[0m \u001b[0mJupyterFPNcDisplay\u001b[0m\u001b[1;33m\u001b[0m\u001b[1;33m\u001b[0m\u001b[0m\n\u001b[0m\u001b[0;32m      2\u001b[0m \u001b[0mlist_videos\u001b[0m \u001b[1;33m=\u001b[0m \u001b[1;33m[\u001b[0m\u001b[0mRVideo_PN_\u001b[0m\u001b[1;33m,\u001b[0m \u001b[0mRVideo_PN_mFPNc\u001b[0m\u001b[1;33m,\u001b[0m \u001b[0mRVideo_PN_cpFPNc\u001b[0m\u001b[1;33m,\u001b[0m \u001b[0mRVideo_PN_fFPN\u001b[0m\u001b[1;33m]\u001b[0m\u001b[1;33m\u001b[0m\u001b[1;33m\u001b[0m\u001b[0m\n\u001b[0;32m      3\u001b[0m \u001b[0mlist_titles\u001b[0m \u001b[1;33m=\u001b[0m \u001b[1;33m[\u001b[0m\u001b[1;34m'DRA_PN'\u001b[0m\u001b[1;33m,\u001b[0m \u001b[1;34m'mFPNc'\u001b[0m\u001b[1;33m,\u001b[0m \u001b[1;34m'cpFPNc'\u001b[0m\u001b[1;33m,\u001b[0m \u001b[1;34m'fFPNc'\u001b[0m\u001b[1;33m]\u001b[0m\u001b[1;33m\u001b[0m\u001b[1;33m\u001b[0m\u001b[0m\n\u001b[0;32m      4\u001b[0m \u001b[0mget_ipython\u001b[0m\u001b[1;33m(\u001b[0m\u001b[1;33m)\u001b[0m\u001b[1;33m.\u001b[0m\u001b[0mrun_line_magic\u001b[0m\u001b[1;33m(\u001b[0m\u001b[1;34m'matplotlib'\u001b[0m\u001b[1;33m,\u001b[0m \u001b[1;34m'inline'\u001b[0m\u001b[1;33m)\u001b[0m\u001b[1;33m\u001b[0m\u001b[1;33m\u001b[0m\u001b[0m\n\u001b[0;32m      5\u001b[0m JupyterFPNcDisplay(list_videos=list_videos, list_titles=list_titles, correction_axis=1, \n",
      "\u001b[1;31mModuleNotFoundError\u001b[0m: No module named 'piscat'"
     ]
    }
   ],
   "source": [
    "from piscat.Visualization import JupyterFPNcDisplay\n",
    "list_videos = [RVideo_PN_, RVideo_PN_mFPNc, RVideo_PN_cpFPNc, RVideo_PN_fFPN]\n",
    "list_titles = ['DRA_PN', 'mFPNc', 'cpFPNc', 'fFPNc']\n",
    "%matplotlib inline\n",
    "JupyterFPNcDisplay(list_videos=list_videos, list_titles=list_titles, correction_axis=1, \n",
    "                     numRows=1, numColumns=4, imgSizex=15, imgSizey=15, median_filter_flag=False, color='gray')"
   ]
  },
  {
   "cell_type": "markdown",
   "metadata": {},
   "source": [
    "### FPNc spatial benchmarking\n",
    "\n",
    "The lateral extent of the microscope PSF is a key spatial feature for detecting nanoparticles, as we discuss it thoroughly in [the protein localization section](https://piscat.readthedocs.io/Tutorial4/Tutorial4.html). The spatial periodicity of the FPN is sometimes in the order of the PSF size. Therefore, in the presence of FPN some PSF-like features are added to the detected signals. Therefore we can also compare the quality of FPN correction simply by considering the number of false particle detections in the blank videos with FPNc being done with different methods but with the same hyperparameters of localization algorithm. The following interactive displays depict mFPNc and cpFPNc that have 8 and 7 false detections while fFPN video has 2 false detection for the same threshold of 6e-5 on the frame number 1000. "
   ]
  },
  {
   "cell_type": "code",
   "execution_count": 12,
   "metadata": {},
   "outputs": [
    {
     "data": {
      "application/vnd.jupyter.widget-view+json": {
       "model_id": "36f931ddf3434766ad11d9f867ecb65f",
       "version_major": 2,
       "version_minor": 0
      },
      "text/plain": [
       "interactive(children=(FloatSlider(value=6e-05, continuous_update=False, description='Threshold', layout=Layout…"
      ]
     },
     "metadata": {},
     "output_type": "display_data"
    },
    {
     "data": {
      "application/vnd.jupyter.widget-view+json": {
       "model_id": "de8d52a84f26491e9996a83e62e7e62e",
       "version_major": 2,
       "version_minor": 0
      },
      "text/plain": [
       "interactive(children=(FloatSlider(value=6e-05, continuous_update=False, description='Threshold', layout=Layout…"
      ]
     },
     "metadata": {},
     "output_type": "display_data"
    },
    {
     "data": {
      "application/vnd.jupyter.widget-view+json": {
       "model_id": "4e4bed7c3c7549fe834a80071a879fed",
       "version_major": 2,
       "version_minor": 0
      },
      "text/plain": [
       "interactive(children=(FloatSlider(value=6e-05, continuous_update=False, description='Threshold', layout=Layout…"
      ]
     },
     "metadata": {},
     "output_type": "display_data"
    }
   ],
   "source": [
    "from piscat.Localization import PSFsExtraction\n",
    "%matplotlib inline\n",
    "PSF_1 = PSFsExtraction(video=RVideo_PN_mFPNc)\n",
    "PSFs = PSF_1.psf_detection_preview(function='dog', \n",
    "                            min_sigma=1.6, max_sigma=1.7, sigma_ratio=1.1, threshold=6e-5,\n",
    "                            overlap=0, mode='BOTH', frame_number=[1000], IntSlider_width='400px', \n",
    "                                   title='Localization threshold on mFPNc')\n",
    "\n",
    "PSF_l = PSFsExtraction(video=RVideo_PN_cpFPNc)\n",
    "PSFs = PSF_l.psf_detection_preview(function='dog', \n",
    "                            min_sigma=1.6, max_sigma=1.7, sigma_ratio=1.1, threshold=6e-5,\n",
    "                            overlap=0, mode='BOTH', frame_number=[1000], IntSlider_width='400px', \n",
    "                                   title='Localization threshold on cpFPNc')\n",
    "\n",
    "PSF_l = PSFsExtraction(video=RVideo_PN_fFPN)\n",
    "PSFs = PSF_l.psf_detection_preview(function='dog',\n",
    "                           min_sigma=1.6, max_sigma=1.7, sigma_ratio=1.1, threshold=6e-5,\n",
    "                           overlap=0, mode='BOTH', frame_number=[1000], IntSlider_width='400px',\n",
    "                                  title='Localization threshold on fFPNc')\n"
   ]
  },
  {
   "cell_type": "markdown",
   "metadata": {},
   "source": [
    "### FPNc temporal benchmarking\n",
    "\n",
    "\n",
    "The noise floor curve illustrates the comparison between mFPNc, cpFPNc and fFPNc for the difference in their performance regarding background temporal fluctuations. FPN comprises both additive and multiplicative terms; mFPN and cpFPN correct the additive component, whereas fFPN corrects FPN in the frequency domain by converting the multiplicative terms to additive terms. The multiplicative part of the FPN is thus adjusted by edge preserving filtering, resulting in an increase in the feasible minimum temporal noise floor. To summarize, fFPN is most appropriate when FPN is caused by a mismatch in ADC gain (multiplicative), but with our camera, FPN is caused by a disparity in ADC offset (additive). In this instance, mFPN or cpFPN are more effective."
   ]
  },
  {
   "cell_type": "code",
   "execution_count": 8,
   "metadata": {
    "hideCode": false,
    "hidePrompt": false
   },
   "outputs": [
    {
     "name": "stdout",
     "output_type": "stream",
     "text": [
      "\u001b[93m\n",
      "The noise floor is running without parallel loop!\u001b[0m\n",
      "\n",
      "--- start DRA ---\n"
     ]
    },
    {
     "data": {
      "application/vnd.jupyter.widget-view+json": {
       "model_id": "da808be179734b0b87b893f8e14ab647",
       "version_major": 2,
       "version_minor": 0
      },
      "text/plain": [
       "  0%|          | 0/4938 [00:00<?, ?it/s]"
      ]
     },
     "metadata": {},
     "output_type": "display_data"
    },
    {
     "name": "stdout",
     "output_type": "stream",
     "text": [
      "\n",
      "--- start DRA ---\n"
     ]
    },
    {
     "data": {
      "application/vnd.jupyter.widget-view+json": {
       "model_id": "8f9fb7445b86486e806c197e509573b2",
       "version_major": 2,
       "version_minor": 0
      },
      "text/plain": [
       "  0%|          | 0/4878 [00:00<?, ?it/s]"
      ]
     },
     "metadata": {},
     "output_type": "display_data"
    },
    {
     "name": "stdout",
     "output_type": "stream",
     "text": [
      "\n",
      "--- start DRA ---\n"
     ]
    },
    {
     "data": {
      "application/vnd.jupyter.widget-view+json": {
       "model_id": "091064b8e0fa44fd96f61099d2ffb547",
       "version_major": 2,
       "version_minor": 0
      },
      "text/plain": [
       "  0%|          | 0/4818 [00:00<?, ?it/s]"
      ]
     },
     "metadata": {},
     "output_type": "display_data"
    },
    {
     "name": "stdout",
     "output_type": "stream",
     "text": [
      "\n",
      "--- start DRA ---\n"
     ]
    },
    {
     "data": {
      "application/vnd.jupyter.widget-view+json": {
       "model_id": "8a6436f75edd485894cbbd6b8b21e008",
       "version_major": 2,
       "version_minor": 0
      },
      "text/plain": [
       "  0%|          | 0/4758 [00:00<?, ?it/s]"
      ]
     },
     "metadata": {},
     "output_type": "display_data"
    },
    {
     "name": "stdout",
     "output_type": "stream",
     "text": [
      "\n",
      "--- start DRA ---\n"
     ]
    },
    {
     "data": {
      "application/vnd.jupyter.widget-view+json": {
       "model_id": "580580034f7d40858a6bb1d4158c6dc9",
       "version_major": 2,
       "version_minor": 0
      },
      "text/plain": [
       "  0%|          | 0/4698 [00:00<?, ?it/s]"
      ]
     },
     "metadata": {},
     "output_type": "display_data"
    },
    {
     "name": "stdout",
     "output_type": "stream",
     "text": [
      "\n",
      "--- start DRA ---\n"
     ]
    },
    {
     "data": {
      "application/vnd.jupyter.widget-view+json": {
       "model_id": "7da837a0765840df8cbbe4b9c4d7ad06",
       "version_major": 2,
       "version_minor": 0
      },
      "text/plain": [
       "  0%|          | 0/4638 [00:00<?, ?it/s]"
      ]
     },
     "metadata": {},
     "output_type": "display_data"
    },
    {
     "name": "stdout",
     "output_type": "stream",
     "text": [
      "\u001b[93m\n",
      "The noise floor is running without parallel loop!\u001b[0m\n",
      "\n",
      "--- start DRA + mFPN_axis: Both---\n"
     ]
    },
    {
     "data": {
      "application/vnd.jupyter.widget-view+json": {
       "model_id": "a87ff7ed23cb480882346e90563a1390",
       "version_major": 2,
       "version_minor": 0
      },
      "text/plain": [
       "  0%|          | 0/4938 [00:00<?, ?it/s]"
      ]
     },
     "metadata": {},
     "output_type": "display_data"
    },
    {
     "name": "stdout",
     "output_type": "stream",
     "text": [
      "\n",
      "median FPN correction without parallel loop ---> "
     ]
    },
    {
     "data": {
      "application/vnd.jupyter.widget-view+json": {
       "model_id": "66db6e778c96490db4319507f83cd5e5",
       "version_major": 2,
       "version_minor": 0
      },
      "text/plain": [
       "  0%|          | 0/4939 [00:00<?, ?it/s]"
      ]
     },
     "metadata": {},
     "output_type": "display_data"
    },
    {
     "name": "stdout",
     "output_type": "stream",
     "text": [
      "Done\n",
      "\n",
      "median FPN correction without parallel loop ---> "
     ]
    },
    {
     "data": {
      "application/vnd.jupyter.widget-view+json": {
       "model_id": "700d2d9b2ffe43d6aca0be7f24e32755",
       "version_major": 2,
       "version_minor": 0
      },
      "text/plain": [
       "  0%|          | 0/4939 [00:00<?, ?it/s]"
      ]
     },
     "metadata": {},
     "output_type": "display_data"
    },
    {
     "name": "stdout",
     "output_type": "stream",
     "text": [
      "Done\n",
      "\n",
      "--- start DRA + mFPN_axis: Both---\n"
     ]
    },
    {
     "data": {
      "application/vnd.jupyter.widget-view+json": {
       "model_id": "22070e10a6b84a0a9e6e5b9bc828912d",
       "version_major": 2,
       "version_minor": 0
      },
      "text/plain": [
       "  0%|          | 0/4878 [00:00<?, ?it/s]"
      ]
     },
     "metadata": {},
     "output_type": "display_data"
    },
    {
     "name": "stdout",
     "output_type": "stream",
     "text": [
      "\n",
      "median FPN correction without parallel loop ---> "
     ]
    },
    {
     "data": {
      "application/vnd.jupyter.widget-view+json": {
       "model_id": "ed460ac4d8e1403585d05fa4440f813a",
       "version_major": 2,
       "version_minor": 0
      },
      "text/plain": [
       "  0%|          | 0/4879 [00:00<?, ?it/s]"
      ]
     },
     "metadata": {},
     "output_type": "display_data"
    },
    {
     "name": "stdout",
     "output_type": "stream",
     "text": [
      "Done\n",
      "\n",
      "median FPN correction without parallel loop ---> "
     ]
    },
    {
     "data": {
      "application/vnd.jupyter.widget-view+json": {
       "model_id": "9a301708d6684782a353e5ba3f41e018",
       "version_major": 2,
       "version_minor": 0
      },
      "text/plain": [
       "  0%|          | 0/4879 [00:00<?, ?it/s]"
      ]
     },
     "metadata": {},
     "output_type": "display_data"
    },
    {
     "name": "stdout",
     "output_type": "stream",
     "text": [
      "Done\n",
      "\n",
      "--- start DRA + mFPN_axis: Both---\n"
     ]
    },
    {
     "data": {
      "application/vnd.jupyter.widget-view+json": {
       "model_id": "0545d5c9802840ddb56fb209f18a9f31",
       "version_major": 2,
       "version_minor": 0
      },
      "text/plain": [
       "  0%|          | 0/4818 [00:00<?, ?it/s]"
      ]
     },
     "metadata": {},
     "output_type": "display_data"
    },
    {
     "name": "stdout",
     "output_type": "stream",
     "text": [
      "\n",
      "median FPN correction without parallel loop ---> "
     ]
    },
    {
     "data": {
      "application/vnd.jupyter.widget-view+json": {
       "model_id": "7c6cba80274943f2b6b423861bcba3d9",
       "version_major": 2,
       "version_minor": 0
      },
      "text/plain": [
       "  0%|          | 0/4819 [00:00<?, ?it/s]"
      ]
     },
     "metadata": {},
     "output_type": "display_data"
    },
    {
     "name": "stdout",
     "output_type": "stream",
     "text": [
      "Done\n",
      "\n",
      "median FPN correction without parallel loop ---> "
     ]
    },
    {
     "data": {
      "application/vnd.jupyter.widget-view+json": {
       "model_id": "fd0b989a92fc4041a15946b2f2b6f8cb",
       "version_major": 2,
       "version_minor": 0
      },
      "text/plain": [
       "  0%|          | 0/4819 [00:00<?, ?it/s]"
      ]
     },
     "metadata": {},
     "output_type": "display_data"
    },
    {
     "name": "stdout",
     "output_type": "stream",
     "text": [
      "Done\n",
      "\n",
      "--- start DRA + mFPN_axis: Both---\n"
     ]
    },
    {
     "data": {
      "application/vnd.jupyter.widget-view+json": {
       "model_id": "85a3bf3a286b4f3cbdf6489dee3e4c3b",
       "version_major": 2,
       "version_minor": 0
      },
      "text/plain": [
       "  0%|          | 0/4758 [00:00<?, ?it/s]"
      ]
     },
     "metadata": {},
     "output_type": "display_data"
    },
    {
     "name": "stdout",
     "output_type": "stream",
     "text": [
      "\n",
      "median FPN correction without parallel loop ---> "
     ]
    },
    {
     "data": {
      "application/vnd.jupyter.widget-view+json": {
       "model_id": "03d6a92e6cae420eabe7b65b31e581c4",
       "version_major": 2,
       "version_minor": 0
      },
      "text/plain": [
       "  0%|          | 0/4759 [00:00<?, ?it/s]"
      ]
     },
     "metadata": {},
     "output_type": "display_data"
    },
    {
     "name": "stdout",
     "output_type": "stream",
     "text": [
      "Done\n",
      "\n",
      "median FPN correction without parallel loop ---> "
     ]
    },
    {
     "data": {
      "application/vnd.jupyter.widget-view+json": {
       "model_id": "56ffc43dc093446ea805c75c88e103ae",
       "version_major": 2,
       "version_minor": 0
      },
      "text/plain": [
       "  0%|          | 0/4759 [00:00<?, ?it/s]"
      ]
     },
     "metadata": {},
     "output_type": "display_data"
    },
    {
     "name": "stdout",
     "output_type": "stream",
     "text": [
      "Done\n",
      "\n",
      "--- start DRA + mFPN_axis: Both---\n"
     ]
    },
    {
     "data": {
      "application/vnd.jupyter.widget-view+json": {
       "model_id": "dca3c0b211cc4c3593ba4af9f5f27eac",
       "version_major": 2,
       "version_minor": 0
      },
      "text/plain": [
       "  0%|          | 0/4698 [00:00<?, ?it/s]"
      ]
     },
     "metadata": {},
     "output_type": "display_data"
    },
    {
     "name": "stdout",
     "output_type": "stream",
     "text": [
      "\n",
      "median FPN correction without parallel loop ---> "
     ]
    },
    {
     "data": {
      "application/vnd.jupyter.widget-view+json": {
       "model_id": "25024ba02ff14923b7651b70d86de557",
       "version_major": 2,
       "version_minor": 0
      },
      "text/plain": [
       "  0%|          | 0/4699 [00:00<?, ?it/s]"
      ]
     },
     "metadata": {},
     "output_type": "display_data"
    },
    {
     "name": "stdout",
     "output_type": "stream",
     "text": [
      "Done\n",
      "\n",
      "median FPN correction without parallel loop ---> "
     ]
    },
    {
     "data": {
      "application/vnd.jupyter.widget-view+json": {
       "model_id": "4110a49a9cee4d84a8de7d0fb3773ce7",
       "version_major": 2,
       "version_minor": 0
      },
      "text/plain": [
       "  0%|          | 0/4699 [00:00<?, ?it/s]"
      ]
     },
     "metadata": {},
     "output_type": "display_data"
    },
    {
     "name": "stdout",
     "output_type": "stream",
     "text": [
      "Done\n",
      "\n",
      "--- start DRA + mFPN_axis: Both---\n"
     ]
    },
    {
     "data": {
      "application/vnd.jupyter.widget-view+json": {
       "model_id": "4987102dd9b3436884597e8b3f219d56",
       "version_major": 2,
       "version_minor": 0
      },
      "text/plain": [
       "  0%|          | 0/4638 [00:00<?, ?it/s]"
      ]
     },
     "metadata": {},
     "output_type": "display_data"
    },
    {
     "name": "stdout",
     "output_type": "stream",
     "text": [
      "\n",
      "median FPN correction without parallel loop ---> "
     ]
    },
    {
     "data": {
      "application/vnd.jupyter.widget-view+json": {
       "model_id": "4eeeb13d9c3745cd8451d00a070acfda",
       "version_major": 2,
       "version_minor": 0
      },
      "text/plain": [
       "  0%|          | 0/4639 [00:00<?, ?it/s]"
      ]
     },
     "metadata": {},
     "output_type": "display_data"
    },
    {
     "name": "stdout",
     "output_type": "stream",
     "text": [
      "Done\n",
      "\n",
      "median FPN correction without parallel loop ---> "
     ]
    },
    {
     "data": {
      "application/vnd.jupyter.widget-view+json": {
       "model_id": "f5e22d929fbe40fbbe82de8ce56fcca5",
       "version_major": 2,
       "version_minor": 0
      },
      "text/plain": [
       "  0%|          | 0/4639 [00:00<?, ?it/s]"
      ]
     },
     "metadata": {},
     "output_type": "display_data"
    },
    {
     "name": "stdout",
     "output_type": "stream",
     "text": [
      "Done\n",
      "\u001b[93m\n",
      "The noise floor is running without parallel loop!\u001b[0m\n",
      "\n",
      "--- start DRA + cpFPN_axis: Both---\n"
     ]
    },
    {
     "data": {
      "application/vnd.jupyter.widget-view+json": {
       "model_id": "a785365120e14fb197d9a0c9050724f6",
       "version_major": 2,
       "version_minor": 0
      },
      "text/plain": [
       "  0%|          | 0/4938 [00:00<?, ?it/s]"
      ]
     },
     "metadata": {},
     "output_type": "display_data"
    },
    {
     "name": "stdout",
     "output_type": "stream",
     "text": [
      "\n",
      "cpFPN correction without parallel loop ---> "
     ]
    },
    {
     "data": {
      "application/vnd.jupyter.widget-view+json": {
       "model_id": "dd3bba325f66464a947c004baff77c5f",
       "version_major": 2,
       "version_minor": 0
      },
      "text/plain": [
       "  0%|          | 0/4939 [00:00<?, ?it/s]"
      ]
     },
     "metadata": {},
     "output_type": "display_data"
    },
    {
     "name": "stdout",
     "output_type": "stream",
     "text": [
      "Done\n",
      "\n",
      "cpFPN correction without parallel loop ---> "
     ]
    },
    {
     "data": {
      "application/vnd.jupyter.widget-view+json": {
       "model_id": "b6b8e7d4acc74636b32f6df32c1f4dd8",
       "version_major": 2,
       "version_minor": 0
      },
      "text/plain": [
       "  0%|          | 0/4939 [00:00<?, ?it/s]"
      ]
     },
     "metadata": {},
     "output_type": "display_data"
    },
    {
     "name": "stdout",
     "output_type": "stream",
     "text": [
      "Done\n",
      "\n",
      "--- start DRA + cpFPN_axis: Both---\n"
     ]
    },
    {
     "data": {
      "application/vnd.jupyter.widget-view+json": {
       "model_id": "192cc4c30a2248459adac4243b7d606a",
       "version_major": 2,
       "version_minor": 0
      },
      "text/plain": [
       "  0%|          | 0/4878 [00:00<?, ?it/s]"
      ]
     },
     "metadata": {},
     "output_type": "display_data"
    },
    {
     "name": "stdout",
     "output_type": "stream",
     "text": [
      "\n",
      "cpFPN correction without parallel loop ---> "
     ]
    },
    {
     "data": {
      "application/vnd.jupyter.widget-view+json": {
       "model_id": "eafada8920374d35bec87e1de9b7d8d4",
       "version_major": 2,
       "version_minor": 0
      },
      "text/plain": [
       "  0%|          | 0/4879 [00:00<?, ?it/s]"
      ]
     },
     "metadata": {},
     "output_type": "display_data"
    },
    {
     "name": "stdout",
     "output_type": "stream",
     "text": [
      "Done\n",
      "\n",
      "cpFPN correction without parallel loop ---> "
     ]
    },
    {
     "data": {
      "application/vnd.jupyter.widget-view+json": {
       "model_id": "4edf33b606e8488cbcf14f649e4bb35e",
       "version_major": 2,
       "version_minor": 0
      },
      "text/plain": [
       "  0%|          | 0/4879 [00:00<?, ?it/s]"
      ]
     },
     "metadata": {},
     "output_type": "display_data"
    },
    {
     "name": "stdout",
     "output_type": "stream",
     "text": [
      "Done\n",
      "\n",
      "--- start DRA + cpFPN_axis: Both---\n"
     ]
    },
    {
     "data": {
      "application/vnd.jupyter.widget-view+json": {
       "model_id": "13e0bfe5982d475bbb5a5473a95fbeba",
       "version_major": 2,
       "version_minor": 0
      },
      "text/plain": [
       "  0%|          | 0/4818 [00:00<?, ?it/s]"
      ]
     },
     "metadata": {},
     "output_type": "display_data"
    },
    {
     "name": "stdout",
     "output_type": "stream",
     "text": [
      "\n",
      "cpFPN correction without parallel loop ---> "
     ]
    },
    {
     "data": {
      "application/vnd.jupyter.widget-view+json": {
       "model_id": "3655101ff196482587a2496a711f6685",
       "version_major": 2,
       "version_minor": 0
      },
      "text/plain": [
       "  0%|          | 0/4819 [00:00<?, ?it/s]"
      ]
     },
     "metadata": {},
     "output_type": "display_data"
    },
    {
     "name": "stdout",
     "output_type": "stream",
     "text": [
      "Done\n",
      "\n",
      "cpFPN correction without parallel loop ---> "
     ]
    },
    {
     "data": {
      "application/vnd.jupyter.widget-view+json": {
       "model_id": "d7b4b400dfa940db950cd25aa87be9ca",
       "version_major": 2,
       "version_minor": 0
      },
      "text/plain": [
       "  0%|          | 0/4819 [00:00<?, ?it/s]"
      ]
     },
     "metadata": {},
     "output_type": "display_data"
    },
    {
     "name": "stdout",
     "output_type": "stream",
     "text": [
      "Done\n",
      "\n",
      "--- start DRA + cpFPN_axis: Both---\n"
     ]
    },
    {
     "data": {
      "application/vnd.jupyter.widget-view+json": {
       "model_id": "1bad3cb35f3f424ba8e301e099bfbf7d",
       "version_major": 2,
       "version_minor": 0
      },
      "text/plain": [
       "  0%|          | 0/4758 [00:00<?, ?it/s]"
      ]
     },
     "metadata": {},
     "output_type": "display_data"
    },
    {
     "name": "stdout",
     "output_type": "stream",
     "text": [
      "\n",
      "cpFPN correction without parallel loop ---> "
     ]
    },
    {
     "data": {
      "application/vnd.jupyter.widget-view+json": {
       "model_id": "943f2231d3d9436d9825a825e9451c86",
       "version_major": 2,
       "version_minor": 0
      },
      "text/plain": [
       "  0%|          | 0/4759 [00:00<?, ?it/s]"
      ]
     },
     "metadata": {},
     "output_type": "display_data"
    },
    {
     "name": "stdout",
     "output_type": "stream",
     "text": [
      "Done\n",
      "\n",
      "cpFPN correction without parallel loop ---> "
     ]
    },
    {
     "data": {
      "application/vnd.jupyter.widget-view+json": {
       "model_id": "5c21876b89a7485dbb45b05917c558f7",
       "version_major": 2,
       "version_minor": 0
      },
      "text/plain": [
       "  0%|          | 0/4759 [00:00<?, ?it/s]"
      ]
     },
     "metadata": {},
     "output_type": "display_data"
    },
    {
     "name": "stdout",
     "output_type": "stream",
     "text": [
      "Done\n",
      "\n",
      "--- start DRA + cpFPN_axis: Both---\n"
     ]
    },
    {
     "data": {
      "application/vnd.jupyter.widget-view+json": {
       "model_id": "df8f41e69f344b8aa7bbb6b793f21843",
       "version_major": 2,
       "version_minor": 0
      },
      "text/plain": [
       "  0%|          | 0/4698 [00:00<?, ?it/s]"
      ]
     },
     "metadata": {},
     "output_type": "display_data"
    },
    {
     "name": "stdout",
     "output_type": "stream",
     "text": [
      "\n",
      "cpFPN correction without parallel loop ---> "
     ]
    },
    {
     "data": {
      "application/vnd.jupyter.widget-view+json": {
       "model_id": "9287cac029784954a354cb642d6847b9",
       "version_major": 2,
       "version_minor": 0
      },
      "text/plain": [
       "  0%|          | 0/4699 [00:00<?, ?it/s]"
      ]
     },
     "metadata": {},
     "output_type": "display_data"
    },
    {
     "name": "stdout",
     "output_type": "stream",
     "text": [
      "Done\n",
      "\n",
      "cpFPN correction without parallel loop ---> "
     ]
    },
    {
     "data": {
      "application/vnd.jupyter.widget-view+json": {
       "model_id": "ddfb5ea0ddff407b849976118bb49ef1",
       "version_major": 2,
       "version_minor": 0
      },
      "text/plain": [
       "  0%|          | 0/4699 [00:00<?, ?it/s]"
      ]
     },
     "metadata": {},
     "output_type": "display_data"
    },
    {
     "name": "stdout",
     "output_type": "stream",
     "text": [
      "Done\n",
      "\n",
      "--- start DRA + cpFPN_axis: Both---\n"
     ]
    },
    {
     "data": {
      "application/vnd.jupyter.widget-view+json": {
       "model_id": "9753f58c44e04f8aafd40c74d83c08be",
       "version_major": 2,
       "version_minor": 0
      },
      "text/plain": [
       "  0%|          | 0/4638 [00:00<?, ?it/s]"
      ]
     },
     "metadata": {},
     "output_type": "display_data"
    },
    {
     "name": "stdout",
     "output_type": "stream",
     "text": [
      "\n",
      "cpFPN correction without parallel loop ---> "
     ]
    },
    {
     "data": {
      "application/vnd.jupyter.widget-view+json": {
       "model_id": "edb9c7842156446b84e70307b013883d",
       "version_major": 2,
       "version_minor": 0
      },
      "text/plain": [
       "  0%|          | 0/4639 [00:00<?, ?it/s]"
      ]
     },
     "metadata": {},
     "output_type": "display_data"
    },
    {
     "name": "stdout",
     "output_type": "stream",
     "text": [
      "Done\n",
      "\n",
      "cpFPN correction without parallel loop ---> "
     ]
    },
    {
     "data": {
      "application/vnd.jupyter.widget-view+json": {
       "model_id": "6e56515c19fc469597b4f346f79abe2a",
       "version_major": 2,
       "version_minor": 0
      },
      "text/plain": [
       "  0%|          | 0/4639 [00:00<?, ?it/s]"
      ]
     },
     "metadata": {},
     "output_type": "display_data"
    },
    {
     "name": "stdout",
     "output_type": "stream",
     "text": [
      "Done\n",
      "\u001b[93m\n",
      "The noise floor is running without parallel loop!\u001b[0m\n",
      "\n",
      "--- start DRA + fFPN_axis: Both---\n"
     ]
    },
    {
     "data": {
      "application/vnd.jupyter.widget-view+json": {
       "model_id": "b15abfaec5a74922ad38e956a2af6d4f",
       "version_major": 2,
       "version_minor": 0
      },
      "text/plain": [
       "  0%|          | 0/4938 [00:00<?, ?it/s]"
      ]
     },
     "metadata": {},
     "output_type": "display_data"
    },
    {
     "name": "stdout",
     "output_type": "stream",
     "text": [
      "\n",
      "---start fFPNc with Parallel---\n"
     ]
    },
    {
     "data": {
      "application/vnd.jupyter.widget-view+json": {
       "model_id": "f905a6ed1cb74ca3abc9dac8ac1e614c",
       "version_major": 2,
       "version_minor": 0
      },
      "text/plain": [
       "  0%|          | 0/4939 [00:00<?, ?it/s]"
      ]
     },
     "metadata": {},
     "output_type": "display_data"
    },
    {
     "name": "stdout",
     "output_type": "stream",
     "text": [
      "\n",
      "---start fFPNc with Parallel---\n"
     ]
    },
    {
     "data": {
      "application/vnd.jupyter.widget-view+json": {
       "model_id": "bc37a73251d147dbb25122461113ca4f",
       "version_major": 2,
       "version_minor": 0
      },
      "text/plain": [
       "  0%|          | 0/4939 [00:00<?, ?it/s]"
      ]
     },
     "metadata": {},
     "output_type": "display_data"
    },
    {
     "name": "stdout",
     "output_type": "stream",
     "text": [
      "\n",
      "--- start DRA + fFPN_axis: Both---\n"
     ]
    },
    {
     "data": {
      "application/vnd.jupyter.widget-view+json": {
       "model_id": "5567b0c8d6a54db09fa5bf1ab60c6e46",
       "version_major": 2,
       "version_minor": 0
      },
      "text/plain": [
       "  0%|          | 0/4878 [00:00<?, ?it/s]"
      ]
     },
     "metadata": {},
     "output_type": "display_data"
    },
    {
     "name": "stdout",
     "output_type": "stream",
     "text": [
      "\n",
      "---start fFPNc with Parallel---\n"
     ]
    },
    {
     "data": {
      "application/vnd.jupyter.widget-view+json": {
       "model_id": "1f270647395d422cba8a9f6c041428ed",
       "version_major": 2,
       "version_minor": 0
      },
      "text/plain": [
       "  0%|          | 0/4879 [00:00<?, ?it/s]"
      ]
     },
     "metadata": {},
     "output_type": "display_data"
    },
    {
     "name": "stdout",
     "output_type": "stream",
     "text": [
      "\n",
      "---start fFPNc with Parallel---\n"
     ]
    },
    {
     "data": {
      "application/vnd.jupyter.widget-view+json": {
       "model_id": "a6e7ab1c2e89489eaca17fd5b50d0ce8",
       "version_major": 2,
       "version_minor": 0
      },
      "text/plain": [
       "  0%|          | 0/4879 [00:00<?, ?it/s]"
      ]
     },
     "metadata": {},
     "output_type": "display_data"
    },
    {
     "name": "stdout",
     "output_type": "stream",
     "text": [
      "\n",
      "--- start DRA + fFPN_axis: Both---\n"
     ]
    },
    {
     "data": {
      "application/vnd.jupyter.widget-view+json": {
       "model_id": "1688e603fe68449fb29942637e72b1b3",
       "version_major": 2,
       "version_minor": 0
      },
      "text/plain": [
       "  0%|          | 0/4818 [00:00<?, ?it/s]"
      ]
     },
     "metadata": {},
     "output_type": "display_data"
    },
    {
     "name": "stdout",
     "output_type": "stream",
     "text": [
      "\n",
      "---start fFPNc with Parallel---\n"
     ]
    },
    {
     "data": {
      "application/vnd.jupyter.widget-view+json": {
       "model_id": "f5134d2ebc554dcb95c2fb9dfdbc7259",
       "version_major": 2,
       "version_minor": 0
      },
      "text/plain": [
       "  0%|          | 0/4819 [00:00<?, ?it/s]"
      ]
     },
     "metadata": {},
     "output_type": "display_data"
    },
    {
     "name": "stdout",
     "output_type": "stream",
     "text": [
      "\n",
      "---start fFPNc with Parallel---\n"
     ]
    },
    {
     "data": {
      "application/vnd.jupyter.widget-view+json": {
       "model_id": "abbcf861f40447ffa1ac14f5e5b58476",
       "version_major": 2,
       "version_minor": 0
      },
      "text/plain": [
       "  0%|          | 0/4819 [00:00<?, ?it/s]"
      ]
     },
     "metadata": {},
     "output_type": "display_data"
    },
    {
     "name": "stdout",
     "output_type": "stream",
     "text": [
      "\n",
      "--- start DRA + fFPN_axis: Both---\n"
     ]
    },
    {
     "data": {
      "application/vnd.jupyter.widget-view+json": {
       "model_id": "9ba4843dc2574f9085ca4569ad0be0e8",
       "version_major": 2,
       "version_minor": 0
      },
      "text/plain": [
       "  0%|          | 0/4758 [00:00<?, ?it/s]"
      ]
     },
     "metadata": {},
     "output_type": "display_data"
    },
    {
     "name": "stdout",
     "output_type": "stream",
     "text": [
      "\n",
      "---start fFPNc with Parallel---\n"
     ]
    },
    {
     "data": {
      "application/vnd.jupyter.widget-view+json": {
       "model_id": "43b46c1eb42547cf9bd3d18524408e15",
       "version_major": 2,
       "version_minor": 0
      },
      "text/plain": [
       "  0%|          | 0/4759 [00:00<?, ?it/s]"
      ]
     },
     "metadata": {},
     "output_type": "display_data"
    },
    {
     "name": "stdout",
     "output_type": "stream",
     "text": [
      "\n",
      "---start fFPNc with Parallel---\n"
     ]
    },
    {
     "data": {
      "application/vnd.jupyter.widget-view+json": {
       "model_id": "9c9d99fc506541fc9fc4c3d2287ae6dd",
       "version_major": 2,
       "version_minor": 0
      },
      "text/plain": [
       "  0%|          | 0/4759 [00:00<?, ?it/s]"
      ]
     },
     "metadata": {},
     "output_type": "display_data"
    },
    {
     "name": "stdout",
     "output_type": "stream",
     "text": [
      "\n",
      "--- start DRA + fFPN_axis: Both---\n"
     ]
    },
    {
     "data": {
      "application/vnd.jupyter.widget-view+json": {
       "model_id": "c5c8bad8d9b242bcad56cb4930cd0d28",
       "version_major": 2,
       "version_minor": 0
      },
      "text/plain": [
       "  0%|          | 0/4698 [00:00<?, ?it/s]"
      ]
     },
     "metadata": {},
     "output_type": "display_data"
    },
    {
     "name": "stdout",
     "output_type": "stream",
     "text": [
      "\n",
      "---start fFPNc with Parallel---\n"
     ]
    },
    {
     "data": {
      "application/vnd.jupyter.widget-view+json": {
       "model_id": "a18ddd39f82e46e88875419f9240a184",
       "version_major": 2,
       "version_minor": 0
      },
      "text/plain": [
       "  0%|          | 0/4699 [00:00<?, ?it/s]"
      ]
     },
     "metadata": {},
     "output_type": "display_data"
    },
    {
     "name": "stdout",
     "output_type": "stream",
     "text": [
      "\n",
      "---start fFPNc with Parallel---\n"
     ]
    },
    {
     "data": {
      "application/vnd.jupyter.widget-view+json": {
       "model_id": "ed4bc93a70ee4939b4b239f85013bdf9",
       "version_major": 2,
       "version_minor": 0
      },
      "text/plain": [
       "  0%|          | 0/4699 [00:00<?, ?it/s]"
      ]
     },
     "metadata": {},
     "output_type": "display_data"
    },
    {
     "name": "stdout",
     "output_type": "stream",
     "text": [
      "\n",
      "--- start DRA + fFPN_axis: Both---\n"
     ]
    },
    {
     "data": {
      "application/vnd.jupyter.widget-view+json": {
       "model_id": "59748c786191446cab457da634a4fd82",
       "version_major": 2,
       "version_minor": 0
      },
      "text/plain": [
       "  0%|          | 0/4638 [00:00<?, ?it/s]"
      ]
     },
     "metadata": {},
     "output_type": "display_data"
    },
    {
     "name": "stdout",
     "output_type": "stream",
     "text": [
      "\n",
      "---start fFPNc with Parallel---\n"
     ]
    },
    {
     "data": {
      "application/vnd.jupyter.widget-view+json": {
       "model_id": "2a8414cfe75049d2b0927651dbda378b",
       "version_major": 2,
       "version_minor": 0
      },
      "text/plain": [
       "  0%|          | 0/4639 [00:00<?, ?it/s]"
      ]
     },
     "metadata": {},
     "output_type": "display_data"
    },
    {
     "name": "stdout",
     "output_type": "stream",
     "text": [
      "\n",
      "---start fFPNc with Parallel---\n"
     ]
    },
    {
     "data": {
      "application/vnd.jupyter.widget-view+json": {
       "model_id": "57b07eb5398f4319b5de59d94e7f4118",
       "version_major": 2,
       "version_minor": 0
      },
      "text/plain": [
       "  0%|          | 0/4639 [00:00<?, ?it/s]"
      ]
     },
     "metadata": {},
     "output_type": "display_data"
    }
   ],
   "source": [
    "# Noise floor analysis\n",
    "\n",
    "from piscat.BackgroundCorrection import NoiseFloor\n",
    "l_range = list(range(30, 200, 30))\n",
    "noise_floor_DRA = NoiseFloor(video_pn, list_range=l_range, FPN_flag=False)\n",
    "\n",
    "noise_floor_mFPN = NoiseFloor(video_pn, list_range=l_range, select_correction_axis='Both',\n",
    "                           FPN_flag=True, mode_FPN='mFPN')\n",
    "\n",
    "noise_floor_cpFPN = NoiseFloor(video_pn, list_range=l_range, select_correction_axis='Both',\n",
    "                           FPN_flag=True, mode_FPN='cpFPN')\n",
    "\n",
    "noise_floor_fFPN = NoiseFloor(video_pn, list_range=l_range, select_correction_axis='Both',\n",
    "                           FPN_flag=True, mode_FPN='fFPN',  max_iterations=10)"
   ]
  },
  {
   "cell_type": "code",
   "execution_count": 9,
   "metadata": {},
   "outputs": [
    {
     "data": {
      "text/plain": [
       "<matplotlib.legend.Legend at 0x1e61a5524f0>"
      ]
     },
     "execution_count": 9,
     "metadata": {},
     "output_type": "execute_result"
    },
    {
     "data": {
      "image/png": "[encoded data removed]",
      "text/plain": [
       "<Figure size 1080x720 with 1 Axes>"
      ]
     },
     "metadata": {
      "needs_background": "light"
     },
     "output_type": "display_data"
    }
   ],
   "source": [
    "import matplotlib.pyplot as plt\n",
    "%matplotlib inline\n",
    "fig = plt.figure(figsize=(15, 10))\n",
    "plt.plot(l_range, noise_floor_DRA.mean, label='PN+DRA')\n",
    "plt.plot(l_range, noise_floor_mFPN.mean, label='PN+DRA+mFPN')\n",
    "plt.plot(l_range, noise_floor_cpFPN.mean, label='PN+DRA+cpFPN')\n",
    "plt.plot(l_range, noise_floor_fFPN.mean, label='PN+DRA+fFPN')\n",
    "plt.xlabel(\"Batch size\", fontsize=18)\n",
    "plt.ylabel(\"Noise floor\", fontsize=18)\n",
    "plt.ticklabel_format(style='sci', axis='y', scilimits=(0, 0))\n",
    "plt.legend()"
   ]
  },
  {
   "cell_type": "markdown",
   "metadata": {},
   "source": [
    "### Bibliography\n",
    "1. [Mirzaalian Dastjerdi, Houman, et al. \"Optimized analysis for sensitive detection and analysis of single proteins via interferometric scattering microscopy.\" Journal of Physics D: Applied Physics (2021).](http://iopscience.iop.org/article/10.1088/1361-6463/ac2f68)\n",
    "\n",
    "2. [Snoeij, Martijn F., et al. \"A CMOS imager with column-level ADC using dynamic column fixed-pattern noise reduction.\" IEEE Journal of Solid-State Circuits 41.12 (2006): 3007-3015.](https://ieeexplore.ieee.org/stamp/stamp.jsp?tp=&arnumber=4014637)\n",
    "\n",
    "3. [Cao, Yanlong, et al. \"A multi-scale non-uniformity correction method based on wavelet decomposition and guided filtering for     uncooled long wave infrared camera.\" Signal Processing: Image Communication 60 (2018): 13-21.](https://www.sciencedirect.com/science/article/abs/pii/S0923596517301522)\n",
    "\n",
    "4. [Zeng, Qingjie, et al. \"Single infrared image-based stripe nonuniformity correction via a two-stage filtering method.\" Sensors 18.12 (2018): 4299.](https://www.mdpi.com/1424-8220/18/12/4299)"
   ]
  }
 ],
 "metadata": {
  "hide_code_all_hidden": false,
  "hide_input": false,
  "kernelspec": {
   "display_name": "Python 3 (ipykernel)",
   "language": "python",
   "name": "python3"
  },
  "language_info": {
   "codemirror_mode": {
    "name": "ipython",
    "version": 3
   },
   "file_extension": ".py",
   "mimetype": "text/x-python",
   "name": "python",
   "nbconvert_exporter": "python",
   "pygments_lexer": "ipython3",
   "version": "3.9.5"
  },
  "widgets": {
   "application/vnd.jupyter.widget-state+json": {
    "state": {
     "035b56d08ee84654b39b892f0e13abb1": {
      "model_module": "@jupyter-widgets/controls",
      "model_module_version": "1.5.0",
      "model_name": "ProgressStyleModel",
      "state": {
       "description_width": ""
      }
     },
     "048b73585075491197accb7f67aa1782": {
      "model_module": "@jupyter-widgets/controls",
      "model_module_version": "1.5.0",
      "model_name": "ProgressStyleModel",
      "state": {
       "description_width": ""
      }
     },
     "0a4b600c640141efba377efd0a761db6": {
      "model_module": "@jupyter-widgets/controls",
      "model_module_version": "1.5.0",
      "model_name": "FloatProgressModel",
      "state": {
       "bar_style": "success",
       "layout": "IPY_MODEL_57726353f73d4c4895c2225f37a651ec",
       "max": 1600,
       "style": "IPY_MODEL_7beb7e48b459485fa4de1cd8a7bd7acc",
       "value": 1600
      }
     },
     "0b09c1d72a514277a7f0e7b0739568f2": {
      "model_module": "@jupyter-widgets/controls",
      "model_module_version": "1.5.0",
      "model_name": "IntSliderModel",
      "state": {
       "continuous_update": false,
       "description": "Frame:",
       "layout": "IPY_MODEL_1810dc9079fd4713911b447b6879c35c",
       "max": 1999,
       "readout_format": "1",
       "style": "IPY_MODEL_6308395787a04102a5356f9c55951838",
       "value": 10
      }
     },
     "0db483ea570742c4b50e30bc7b70a597": {
      "model_module": "@jupyter-widgets/controls",
      "model_module_version": "1.5.0",
      "model_name": "HTMLModel",
      "state": {
       "layout": "IPY_MODEL_abf1c6e1589c4f45ac5098dc1dc60cb1",
       "style": "IPY_MODEL_9492b7520cb84f40867a1e45152ee511",
       "value": "100%"
      }
     },
     "1810dc9079fd4713911b447b6879c35c": {
      "model_module": "@jupyter-widgets/base",
      "model_module_version": "1.2.0",
      "model_name": "LayoutModel",
      "state": {}
     },
     "1e1fc1070eca4bcea25741a11fd903fb": {
      "model_module": "@jupyter-widgets/controls",
      "model_module_version": "1.5.0",
      "model_name": "VBoxModel",
      "state": {
       "_dom_classes": [
        "widget-interact"
       ],
       "children": [
        "IPY_MODEL_b38d7b63492f4bfa9a699c49146c33a9",
        "IPY_MODEL_c94f646350f14370a7dbcfbc1d3b8ea9"
       ],
       "layout": "IPY_MODEL_76262b57e45345dabdf9c41929f14f3d"
      }
     },
     "1e47d994f0a6483a8037fc5463560317": {
      "model_module": "@jupyter-widgets/base",
      "model_module_version": "1.2.0",
      "model_name": "LayoutModel",
      "state": {}
     },
     "21db4dd163294d28a25a04c61d1080eb": {
      "model_module": "@jupyter-widgets/output",
      "model_module_version": "1.0.0",
      "model_name": "OutputModel",
      "state": {
       "layout": "IPY_MODEL_4a10de865e594ecc8f920995fdd0b5d1",
       "outputs": [
        {
         "data": {
          "image/png": "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\n",
          "text/plain": "<Figure size 432x288 with 2 Axes>"
         },
         "metadata": {
          "needs_background": "light"
         },
         "output_type": "display_data"
        }
       ]
      }
     },
     "27b74d84cff1425fbb3a743bfd0b9a2f": {
      "model_module": "@jupyter-widgets/base",
      "model_module_version": "1.2.0",
      "model_name": "LayoutModel",
      "state": {}
     },
     "2d5d0ed28d4340e08d8485167e173ef4": {
      "model_module": "@jupyter-widgets/base",
      "model_module_version": "1.2.0",
      "model_name": "LayoutModel",
      "state": {}
     },
     "2fd094f4cc924b508b1d32446624da89": {
      "model_module": "@jupyter-widgets/base",
      "model_module_version": "1.2.0",
      "model_name": "LayoutModel",
      "state": {}
     },
     "3340d00f5ea24d68b3eecff646264064": {
      "model_module": "@jupyter-widgets/controls",
      "model_module_version": "1.5.0",
      "model_name": "DescriptionStyleModel",
      "state": {
       "description_width": ""
      }
     },
     "3970d040c7b14391a951508450ec1f04": {
      "model_module": "@jupyter-widgets/controls",
      "model_module_version": "1.5.0",
      "model_name": "SliderStyleModel",
      "state": {
       "description_width": ""
      }
     },
     "3ddf7593ee9c4211b48d1a295e61b4d9": {
      "model_module": "@jupyter-widgets/base",
      "model_module_version": "1.2.0",
      "model_name": "LayoutModel",
      "state": {}
     },
     "3f4a92d56df84fedbafe360f3ec9916d": {
      "model_module": "@jupyter-widgets/controls",
      "model_module_version": "1.5.0",
      "model_name": "DescriptionStyleModel",
      "state": {
       "description_width": ""
      }
     },
     "46f86a7168be4684b6d4b2625f71681b": {
      "model_module": "@jupyter-widgets/controls",
      "model_module_version": "1.5.0",
      "model_name": "HTMLModel",
      "state": {
       "layout": "IPY_MODEL_757cd186f72b4bc1a613fbf41ea50ff7",
       "style": "IPY_MODEL_f89b498907ee4b6681efa8e7097fac1a",
       "value": " 1600/1600 [00:03&lt;00:00, 467.90it/s]"
      }
     },
     "4a10de865e594ecc8f920995fdd0b5d1": {
      "model_module": "@jupyter-widgets/base",
      "model_module_version": "1.2.0",
      "model_name": "LayoutModel",
      "state": {}
     },
     "4f48e5db74ed4e2590c44a7f7e268272": {
      "model_module": "@jupyter-widgets/controls",
      "model_module_version": "1.5.0",
      "model_name": "HTMLModel",
      "state": {
       "layout": "IPY_MODEL_96086fcae44347e9b9ca03ad932d5c88",
       "style": "IPY_MODEL_75f674bbd84d4ff7a71695b509bc41a2",
       "value": " 1599/1599 [00:00&lt;00:00, 3674.39it/s]"
      }
     },
     "4f91b27dc8e94654b4fc54c0e2b00228": {
      "model_module": "@jupyter-widgets/controls",
      "model_module_version": "1.5.0",
      "model_name": "DescriptionStyleModel",
      "state": {
       "description_width": ""
      }
     },
     "57726353f73d4c4895c2225f37a651ec": {
      "model_module": "@jupyter-widgets/base",
      "model_module_version": "1.2.0",
      "model_name": "LayoutModel",
      "state": {}
     },
     "59218dd19a1140169d36580c0010fa98": {
      "model_module": "@jupyter-widgets/base",
      "model_module_version": "1.2.0",
      "model_name": "LayoutModel",
      "state": {}
     },
     "60ae598392d149deabb042f5cead2297": {
      "model_module": "@jupyter-widgets/controls",
      "model_module_version": "1.5.0",
      "model_name": "VBoxModel",
      "state": {
       "_dom_classes": [
        "widget-interact"
       ],
       "children": [
        "IPY_MODEL_c72290c0d12d482297f7dece8b65afc5",
        "IPY_MODEL_21db4dd163294d28a25a04c61d1080eb"
       ],
       "layout": "IPY_MODEL_27b74d84cff1425fbb3a743bfd0b9a2f"
      }
     },
     "6308395787a04102a5356f9c55951838": {
      "model_module": "@jupyter-widgets/controls",
      "model_module_version": "1.5.0",
      "model_name": "SliderStyleModel",
      "state": {
       "description_width": ""
      }
     },
     "6680164bcf424714afe4cff607dbb04c": {
      "model_module": "@jupyter-widgets/controls",
      "model_module_version": "1.5.0",
      "model_name": "FloatProgressModel",
      "state": {
       "bar_style": "success",
       "layout": "IPY_MODEL_2fd094f4cc924b508b1d32446624da89",
       "max": 1599,
       "style": "IPY_MODEL_ddedac99a39448d88bf830edde433b58",
       "value": 1599
      }
     },
     "686fd770ab9d4158b95075e118705067": {
      "model_module": "@jupyter-widgets/controls",
      "model_module_version": "1.5.0",
      "model_name": "HTMLModel",
      "state": {
       "layout": "IPY_MODEL_d53911bd6b254cddbac6a69ba9528ca9",
       "style": "IPY_MODEL_4f91b27dc8e94654b4fc54c0e2b00228",
       "value": " 1599/1599 [00:00&lt;00:00, 4063.48it/s]"
      }
     },
     "6eff539de0554303b096e68a566aacbd": {
      "model_module": "@jupyter-widgets/base",
      "model_module_version": "1.2.0",
      "model_name": "LayoutModel",
      "state": {}
     },
     "732cd692f2c54d87a6cd4e240bfe101b": {
      "model_module": "@jupyter-widgets/controls",
      "model_module_version": "1.5.0",
      "model_name": "DescriptionStyleModel",
      "state": {
       "description_width": ""
      }
     },
     "757cd186f72b4bc1a613fbf41ea50ff7": {
      "model_module": "@jupyter-widgets/base",
      "model_module_version": "1.2.0",
      "model_name": "LayoutModel",
      "state": {}
     },
     "75f674bbd84d4ff7a71695b509bc41a2": {
      "model_module": "@jupyter-widgets/controls",
      "model_module_version": "1.5.0",
      "model_name": "DescriptionStyleModel",
      "state": {
       "description_width": ""
      }
     },
     "76262b57e45345dabdf9c41929f14f3d": {
      "model_module": "@jupyter-widgets/base",
      "model_module_version": "1.2.0",
      "model_name": "LayoutModel",
      "state": {}
     },
     "76e4d54f66444b789db7b1039548a4e4": {
      "model_module": "@jupyter-widgets/base",
      "model_module_version": "1.2.0",
      "model_name": "LayoutModel",
      "state": {}
     },
     "775110136b834ef2b3f17272c66760a9": {
      "model_module": "@jupyter-widgets/controls",
      "model_module_version": "1.5.0",
      "model_name": "HTMLModel",
      "state": {
       "layout": "IPY_MODEL_a35fffd9022a4d4ba83945c0b4535feb",
       "style": "IPY_MODEL_732cd692f2c54d87a6cd4e240bfe101b",
       "value": " 1599/1599 [00:00&lt;00:00, 3982.65it/s]"
      }
     },
     "7a441c55e78b4958818ddce4a107f9e2": {
      "model_module": "@jupyter-widgets/controls",
      "model_module_version": "1.5.0",
      "model_name": "DescriptionStyleModel",
      "state": {
       "description_width": ""
      }
     },
     "7beb7e48b459485fa4de1cd8a7bd7acc": {
      "model_module": "@jupyter-widgets/controls",
      "model_module_version": "1.5.0",
      "model_name": "ProgressStyleModel",
      "state": {
       "description_width": ""
      }
     },
     "7e3a5bb5c88d46bfa78791f4a9887fb4": {
      "model_module": "@jupyter-widgets/base",
      "model_module_version": "1.2.0",
      "model_name": "LayoutModel",
      "state": {}
     },
     "7e5912a670954451a87e162ce5171c4b": {
      "model_module": "@jupyter-widgets/controls",
      "model_module_version": "1.5.0",
      "model_name": "HBoxModel",
      "state": {
       "children": [
        "IPY_MODEL_f7e7b050e1654215bc903e02df2ea648",
        "IPY_MODEL_0a4b600c640141efba377efd0a761db6",
        "IPY_MODEL_c9b2cc4b69a44d3ea32eadce061529c7"
       ],
       "layout": "IPY_MODEL_8f738dba2a2d4256a2d489436af3ca41"
      }
     },
     "86239ef1110e4e8da0171f7a55039574": {
      "model_module": "@jupyter-widgets/controls",
      "model_module_version": "1.5.0",
      "model_name": "FloatProgressModel",
      "state": {
       "bar_style": "success",
       "layout": "IPY_MODEL_c5ae39007fb74ac6bd4eba596df6c605",
       "max": 1600,
       "style": "IPY_MODEL_035b56d08ee84654b39b892f0e13abb1",
       "value": 1600
      }
     },
     "873348f1ebcb48db948f8084faa51a71": {
      "model_module": "@jupyter-widgets/controls",
      "model_module_version": "1.5.0",
      "model_name": "VBoxModel",
      "state": {
       "_dom_classes": [
        "widget-interact"
       ],
       "children": [
        "IPY_MODEL_0b09c1d72a514277a7f0e7b0739568f2",
        "IPY_MODEL_8de998bf880a4c01947db1c5e709ebb6"
       ],
       "layout": "IPY_MODEL_db3c927cca834e20a0b47d4164c8fba0"
      }
     },
     "894669513ed54bf097cb619e801a8056": {
      "model_module": "@jupyter-widgets/controls",
      "model_module_version": "1.5.0",
      "model_name": "HBoxModel",
      "state": {
       "children": [
        "IPY_MODEL_0db483ea570742c4b50e30bc7b70a597",
        "IPY_MODEL_d94c2847afd3499faf11aad5c8aeeb0f",
        "IPY_MODEL_4f48e5db74ed4e2590c44a7f7e268272"
       ],
       "layout": "IPY_MODEL_7e3a5bb5c88d46bfa78791f4a9887fb4"
      }
     },
     "8a66ab73452946f49405cb6691833685": {
      "model_module": "@jupyter-widgets/controls",
      "model_module_version": "1.5.0",
      "model_name": "HTMLModel",
      "state": {
       "layout": "IPY_MODEL_3ddf7593ee9c4211b48d1a295e61b4d9",
       "style": "IPY_MODEL_3f4a92d56df84fedbafe360f3ec9916d",
       "value": "100%"
      }
     },
     "8de998bf880a4c01947db1c5e709ebb6": {
      "model_module": "@jupyter-widgets/output",
      "model_module_version": "1.0.0",
      "model_name": "OutputModel",
      "state": {
       "layout": "IPY_MODEL_2d5d0ed28d4340e08d8485167e173ef4",
       "outputs": [
        {
         "data": {
          "image/png": "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\n",
          "text/plain": "<Figure size 432x288 with 2 Axes>"
         },
         "metadata": {
          "needs_background": "light"
         },
         "output_type": "display_data"
        }
       ]
      }
     },
     "8f738dba2a2d4256a2d489436af3ca41": {
      "model_module": "@jupyter-widgets/base",
      "model_module_version": "1.2.0",
      "model_name": "LayoutModel",
      "state": {}
     },
     "9492b7520cb84f40867a1e45152ee511": {
      "model_module": "@jupyter-widgets/controls",
      "model_module_version": "1.5.0",
      "model_name": "DescriptionStyleModel",
      "state": {
       "description_width": ""
      }
     },
     "96086fcae44347e9b9ca03ad932d5c88": {
      "model_module": "@jupyter-widgets/base",
      "model_module_version": "1.2.0",
      "model_name": "LayoutModel",
      "state": {}
     },
     "9e1a007a141640d181d7fd82180be2ef": {
      "model_module": "@jupyter-widgets/controls",
      "model_module_version": "1.5.0",
      "model_name": "HBoxModel",
      "state": {
       "children": [
        "IPY_MODEL_8a66ab73452946f49405cb6691833685",
        "IPY_MODEL_86239ef1110e4e8da0171f7a55039574",
        "IPY_MODEL_46f86a7168be4684b6d4b2625f71681b"
       ],
       "layout": "IPY_MODEL_f779e4599cf747d195b401d9f78363d5"
      }
     },
     "a04b8f2a8e9b4e3ca7610b882a3f216d": {
      "model_module": "@jupyter-widgets/controls",
      "model_module_version": "1.5.0",
      "model_name": "HBoxModel",
      "state": {
       "children": [
        "IPY_MODEL_cfbf8d3aa4734e8999ab5457dd3e2627",
        "IPY_MODEL_ede49615eee84a5c9960cf3d2145101c",
        "IPY_MODEL_775110136b834ef2b3f17272c66760a9"
       ],
       "layout": "IPY_MODEL_f6042ba3bde348d38f82887a433819d9"
      }
     },
     "a0bbac1c955644ee8e9f9483eebad11e": {
      "model_module": "@jupyter-widgets/controls",
      "model_module_version": "1.5.0",
      "model_name": "ProgressStyleModel",
      "state": {
       "description_width": ""
      }
     },
     "a1edfcdc55d14541ae32fd46732d4d65": {
      "model_module": "@jupyter-widgets/controls",
      "model_module_version": "1.5.0",
      "model_name": "HBoxModel",
      "state": {
       "children": [
        "IPY_MODEL_f89aa412b2cc4676a4e1d7328ee5cb5d",
        "IPY_MODEL_6680164bcf424714afe4cff607dbb04c",
        "IPY_MODEL_686fd770ab9d4158b95075e118705067"
       ],
       "layout": "IPY_MODEL_6eff539de0554303b096e68a566aacbd"
      }
     },
     "a35fffd9022a4d4ba83945c0b4535feb": {
      "model_module": "@jupyter-widgets/base",
      "model_module_version": "1.2.0",
      "model_name": "LayoutModel",
      "state": {}
     },
     "a62c6c5548124ed8a13dd6838c46193d": {
      "model_module": "@jupyter-widgets/base",
      "model_module_version": "1.2.0",
      "model_name": "LayoutModel",
      "state": {}
     },
     "a9301597a99645cd846f9938dc2cec8e": {
      "model_module": "@jupyter-widgets/base",
      "model_module_version": "1.2.0",
      "model_name": "LayoutModel",
      "state": {}
     },
     "abf1c6e1589c4f45ac5098dc1dc60cb1": {
      "model_module": "@jupyter-widgets/base",
      "model_module_version": "1.2.0",
      "model_name": "LayoutModel",
      "state": {}
     },
     "b00b71f257164c73ac23ba212512e9a7": {
      "model_module": "@jupyter-widgets/controls",
      "model_module_version": "1.5.0",
      "model_name": "SliderStyleModel",
      "state": {
       "description_width": ""
      }
     },
     "b38d7b63492f4bfa9a699c49146c33a9": {
      "model_module": "@jupyter-widgets/controls",
      "model_module_version": "1.5.0",
      "model_name": "IntSliderModel",
      "state": {
       "continuous_update": false,
       "description": "Frame:",
       "layout": "IPY_MODEL_f77a3c031930483a959aeea38416e097",
       "max": 1600,
       "readout_format": "100",
       "style": "IPY_MODEL_b00b71f257164c73ac23ba212512e9a7",
       "value": 10
      }
     },
     "c337ab6f6103418e93ff06dcfcf298a4": {
      "model_module": "@jupyter-widgets/base",
      "model_module_version": "1.2.0",
      "model_name": "LayoutModel",
      "state": {}
     },
     "c5ae39007fb74ac6bd4eba596df6c605": {
      "model_module": "@jupyter-widgets/base",
      "model_module_version": "1.2.0",
      "model_name": "LayoutModel",
      "state": {}
     },
     "c72290c0d12d482297f7dece8b65afc5": {
      "model_module": "@jupyter-widgets/controls",
      "model_module_version": "1.5.0",
      "model_name": "IntSliderModel",
      "state": {
       "continuous_update": false,
       "description": "Frame:",
       "layout": "IPY_MODEL_1e47d994f0a6483a8037fc5463560317",
       "max": 1999,
       "readout_format": "1",
       "style": "IPY_MODEL_3970d040c7b14391a951508450ec1f04",
       "value": 10
      }
     },
     "c94f646350f14370a7dbcfbc1d3b8ea9": {
      "model_module": "@jupyter-widgets/output",
      "model_module_version": "1.0.0",
      "model_name": "OutputModel",
      "state": {
       "layout": "IPY_MODEL_fcc62c1e95704b12b68eea8490d724eb",
       "outputs": [
        {
         "data": {
          "image/png": "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\n",
          "text/plain": "<Figure size 1080x1080 with 3 Axes>"
         },
         "metadata": {
          "needs_background": "light"
         },
         "output_type": "display_data"
        },
        {
         "data": {
          "image/png": "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\n",
          "text/plain": "<Figure size 1080x108 with 3 Axes>"
         },
         "metadata": {
          "needs_background": "light"
         },
         "output_type": "display_data"
        }
       ]
      }
     },
     "c9b2cc4b69a44d3ea32eadce061529c7": {
      "model_module": "@jupyter-widgets/controls",
      "model_module_version": "1.5.0",
      "model_name": "HTMLModel",
      "state": {
       "layout": "IPY_MODEL_e5c619ef49554f278233d1a21ed68e9e",
       "style": "IPY_MODEL_3340d00f5ea24d68b3eecff646264064",
       "value": " 1600/1600 [00:01&lt;00:00, 969.62it/s]"
      }
     },
     "cfbf8d3aa4734e8999ab5457dd3e2627": {
      "model_module": "@jupyter-widgets/controls",
      "model_module_version": "1.5.0",
      "model_name": "HTMLModel",
      "state": {
       "layout": "IPY_MODEL_a62c6c5548124ed8a13dd6838c46193d",
       "style": "IPY_MODEL_da34bb99e79c4049b433d59cfbfa06b6",
       "value": "100%"
      }
     },
     "d53911bd6b254cddbac6a69ba9528ca9": {
      "model_module": "@jupyter-widgets/base",
      "model_module_version": "1.2.0",
      "model_name": "LayoutModel",
      "state": {}
     },
     "d94c2847afd3499faf11aad5c8aeeb0f": {
      "model_module": "@jupyter-widgets/controls",
      "model_module_version": "1.5.0",
      "model_name": "FloatProgressModel",
      "state": {
       "bar_style": "success",
       "layout": "IPY_MODEL_76e4d54f66444b789db7b1039548a4e4",
       "max": 1599,
       "style": "IPY_MODEL_a0bbac1c955644ee8e9f9483eebad11e",
       "value": 1599
      }
     },
     "da34bb99e79c4049b433d59cfbfa06b6": {
      "model_module": "@jupyter-widgets/controls",
      "model_module_version": "1.5.0",
      "model_name": "DescriptionStyleModel",
      "state": {
       "description_width": ""
      }
     },
     "db3c927cca834e20a0b47d4164c8fba0": {
      "model_module": "@jupyter-widgets/base",
      "model_module_version": "1.2.0",
      "model_name": "LayoutModel",
      "state": {}
     },
     "ddedac99a39448d88bf830edde433b58": {
      "model_module": "@jupyter-widgets/controls",
      "model_module_version": "1.5.0",
      "model_name": "ProgressStyleModel",
      "state": {
       "description_width": ""
      }
     },
     "e5c619ef49554f278233d1a21ed68e9e": {
      "model_module": "@jupyter-widgets/base",
      "model_module_version": "1.2.0",
      "model_name": "LayoutModel",
      "state": {}
     },
     "ec987b67b8cc47a0856b8bfcd9ac8ab3": {
      "model_module": "@jupyter-widgets/controls",
      "model_module_version": "1.5.0",
      "model_name": "DescriptionStyleModel",
      "state": {
       "description_width": ""
      }
     },
     "ede49615eee84a5c9960cf3d2145101c": {
      "model_module": "@jupyter-widgets/controls",
      "model_module_version": "1.5.0",
      "model_name": "FloatProgressModel",
      "state": {
       "bar_style": "success",
       "layout": "IPY_MODEL_59218dd19a1140169d36580c0010fa98",
       "max": 1599,
       "style": "IPY_MODEL_048b73585075491197accb7f67aa1782",
       "value": 1599
      }
     },
     "f6042ba3bde348d38f82887a433819d9": {
      "model_module": "@jupyter-widgets/base",
      "model_module_version": "1.2.0",
      "model_name": "LayoutModel",
      "state": {}
     },
     "f779e4599cf747d195b401d9f78363d5": {
      "model_module": "@jupyter-widgets/base",
      "model_module_version": "1.2.0",
      "model_name": "LayoutModel",
      "state": {}
     },
     "f77a3c031930483a959aeea38416e097": {
      "model_module": "@jupyter-widgets/base",
      "model_module_version": "1.2.0",
      "model_name": "LayoutModel",
      "state": {}
     },
     "f7e7b050e1654215bc903e02df2ea648": {
      "model_module": "@jupyter-widgets/controls",
      "model_module_version": "1.5.0",
      "model_name": "HTMLModel",
      "state": {
       "layout": "IPY_MODEL_a9301597a99645cd846f9938dc2cec8e",
       "style": "IPY_MODEL_7a441c55e78b4958818ddce4a107f9e2",
       "value": "100%"
      }
     },
     "f89aa412b2cc4676a4e1d7328ee5cb5d": {
      "model_module": "@jupyter-widgets/controls",
      "model_module_version": "1.5.0",
      "model_name": "HTMLModel",
      "state": {
       "layout": "IPY_MODEL_c337ab6f6103418e93ff06dcfcf298a4",
       "style": "IPY_MODEL_ec987b67b8cc47a0856b8bfcd9ac8ab3",
       "value": "100%"
      }
     },
     "f89b498907ee4b6681efa8e7097fac1a": {
      "model_module": "@jupyter-widgets/controls",
      "model_module_version": "1.5.0",
      "model_name": "DescriptionStyleModel",
      "state": {
       "description_width": ""
      }
     },
     "fcc62c1e95704b12b68eea8490d724eb": {
      "model_module": "@jupyter-widgets/base",
      "model_module_version": "1.2.0",
      "model_name": "LayoutModel",
      "state": {}
     }
    },
    "version_major": 2,
    "version_minor": 0
   }
  }
 },
 "nbformat": 4,
 "nbformat_minor": 4
}
