{
 "cells": [
  {
   "cell_type": "markdown",
   "metadata": {},
   "source": [
    "# Differential imaging of averaged iSCAT frames    "
   ]
  },
  {
   "cell_type": "markdown",
   "metadata": {},
   "source": [
    "## Previously on PiSCAT tutorials...\n",
    "In the last tutorial, we [set up the PiSCAT modules and downloaded a demo iSCAT video](Tutorial1.ipynb#Setting-up-the-PiSCAT-modules-and-downloading-a-demo-iSCAT-video), [did some basic checks on the acquisition process](Tutorial1.ipynb#Examining-the-status-line-&-removing-it), [suppressed the temporal instability of the laser light](Tutorial1.ipynb#Normalization-of-the-power-in-the-frames-of-a-video) and used some of the [basic data visualization](Tutorial1.ipynb#Display-and-inspect-a-loaded-video) tools provided in PiSCAT for inspection of the iSCAT videos. Based on the number of available CPU cores for parallel processing, this tutorial needs 5-7 GB of computer memory (RAM) to run."
   ]
  },
  {
   "cell_type": "code",
   "execution_count": 1,
   "metadata": {
    "scrolled": true
   },
   "outputs": [
    {
     "name": "stdout",
     "output_type": "stream",
     "text": [
      "\n",
      "Directory  F:\\PiSCAT_GitHub_public\\PiSCAT\\Tutorials  already exists\n",
      "\n",
      "The directory with the name  Demo data  already exists in the following path: F:\\PiSCAT_GitHub_public\\PiSCAT\\Tutorials\n",
      "\n",
      "The data file named  Control  already exists in the following path: F:\\PiSCAT_GitHub_public\\PiSCAT\\Tutorials\\Demo data\n",
      "---Status line detected in column---\n",
      "\n",
      "start power_normalized without parallel loop---> Done\n"
     ]
    }
   ],
   "source": [
    "# Only to ignore warnings\n",
    "import warnings\n",
    "warnings.filterwarnings('ignore')\n",
    "\n",
    "# Setting up the path to the PiSCAT modules\n",
    "import os\n",
    "import sys\n",
    "current_path = os.path.abspath(os.path.join('..'))\n",
    "dir_path = os.path.dirname(current_path)\n",
    "module_path = os.path.join(dir_path)\n",
    "if module_path not in sys.path:\n",
    "    sys.path.append(module_path)\n",
    "\n",
    "# Downloading a control video for this tutorial \n",
    "from piscat.InputOutput import download_tutorial_data\n",
    "download_tutorial_data('control_video')\n",
    "\n",
    "# Examining the status line in a loaded/downloaded video and removing the line\n",
    "from piscat.InputOutput import reading_videos\n",
    "from piscat.Visualization import JupyterDisplay\n",
    "from piscat.InputOutput import read_status_line\n",
    "from piscat.Preproccessing import normalization\n",
    "import numpy as np\n",
    "\n",
    "data_path = os.path.join(dir_path, 'Tutorials', 'Demo data')#The path to the demo data\n",
    "df_video = reading_videos.DirectoryType(data_path, type_file='raw').return_df()\n",
    "paths = df_video['Directory'].tolist()\n",
    "video_names = df_video['File'].tolist()\n",
    "demo_video_path = os.path.join(paths[0], video_names[0])#Selecting the first entry in the list\n",
    "video = reading_videos.video_reader(file_name=demo_video_path, type='binary', img_width=128, img_height=128, \n",
    "                                    image_type=np.dtype('<u2'), s_frame=0, e_frame=-1)#Loading the video\n",
    "status_ = read_status_line.StatusLine(video)#Reading the status line\n",
    "video_remove_status, status_information  = status_.find_status_line()#Examining the status line & removing it\n",
    "\n",
    "# Normalization of the power in the frames of a video\n",
    "video_pn, _ = normalization.Normalization(video=video_remove_status).power_normalized()"
   ]
  },
  {
   "cell_type": "markdown",
   "metadata": {},
   "source": [
    "## Frame averaging to boost SNR of imaged proteins, followed by visualization of their signal via differential imaging\n",
    "The illumination profile and imaged speckles from the coverglass are among static features in iSCAT videos that can be removed by subtracting two subsequent frames to obtain a differential image which will only include dynamic features. As illustrated in the figure below, these features are new relative to the reference image, which is itself being rolled forward. In the calculation of the differential image, each image is the mean frame of a batch of $L$ number of camera frames. In order to apply Differential Rolling Average (DRA), an object of the class [Differential_Rolling_Average](https://piscat.readthedocs.io/en/latest/code_reference.html#piscat.BackgroundCorrection.DifferentialRollingAverage) is instantiated and deployed."
   ]
  },
  {
   "cell_type": "markdown",
   "metadata": {},
   "source": [
    "<img src=\"Fig/DRA.png\" width=\"900\">"
   ]
  },
  {
   "cell_type": "code",
   "execution_count": 2,
   "metadata": {},
   "outputs": [
    {
     "name": "stdout",
     "output_type": "stream",
     "text": [
      "\n",
      "--- start DRA ---\n"
     ]
    },
    {
     "data": {
      "application/vnd.jupyter.widget-view+json": {
       "model_id": "4838370f30a641cfbd5e1d985251868d",
       "version_major": 2,
       "version_minor": 0
      },
      "text/plain": [
       "  0%|          | 0/4598 [00:00<?, ?it/s]"
      ]
     },
     "metadata": {},
     "output_type": "display_data"
    },
    {
     "data": {
      "application/vnd.jupyter.widget-view+json": {
       "model_id": "e5d76e72821b45d48cd5e9d8bd3009ff",
       "version_major": 2,
       "version_minor": 0
      },
      "text/plain": [
       "interactive(children=(IntSlider(value=10, continuous_update=False, description='Frame:', layout=Layout(width='…"
      ]
     },
     "metadata": {},
     "output_type": "display_data"
    },
    {
     "data": {
      "text/plain": [
       "<piscat.Visualization.display_jupyter.JupyterDisplay at 0x1287923fbc8>"
      ]
     },
     "execution_count": 2,
     "metadata": {},
     "output_type": "execute_result"
    }
   ],
   "source": [
    "#For Jupyter notebooks only:\n",
    "%matplotlib inline\n",
    "\n",
    "from piscat.BackgroundCorrection import DifferentialRollingAverage\n",
    "DRA_PN = DifferentialRollingAverage(video=video_pn, batchSize=200)\n",
    "RVideo_PN = DRA_PN.differential_rolling(FFT_flag=False)\n",
    "\n",
    "from piscat.Visualization import JupyterDisplay\n",
    "JupyterDisplay(RVideo_PN, median_filter_flag=False, color='gray', imgSizex=5, imgSizey=5, IntSlider_width='500px', step=100)"
   ]
  },
  {
   "cell_type": "markdown",
   "metadata": {},
   "source": [
    "## The effect of power normalization on the detection limit \n",
    "Here, we perform a quantitative analysis of the influence of the laser power fluctuations on the sensitivity limit of our scheme using [noise_floor class](https://piscat.readthedocs.io/en/latest/code_reference.html#piscat.BackgroundCorrection.NoiseFloor) to analyze the noise floor trend as a function of the batch size."
   ]
  },
  {
   "cell_type": "code",
   "execution_count": 3,
   "metadata": {},
   "outputs": [
    {
     "data": {
      "image/png": "[encoded data removed]",
      "text/plain": [
       "<Figure size 432x288 with 1 Axes>"
      ]
     },
     "metadata": {
      "needs_background": "light"
     },
     "output_type": "display_data"
    }
   ],
   "source": [
    "# Noise floor analysis\n",
    "\n",
    "from piscat.BackgroundCorrection import NoiseFloor\n",
    "l_range = list(range(30, 200, 30))\n",
    "noise_floor_DRA = NoiseFloor(video_remove_status, list_range=l_range)\n",
    "noise_floor_DRA_pn = NoiseFloor(video_pn, list_range=l_range)\n",
    "\n",
    "import matplotlib.pyplot as plt\n",
    "%matplotlib inline\n",
    "plt.plot(l_range, noise_floor_DRA.mean, label='DRA')\n",
    "plt.plot(l_range, noise_floor_DRA_pn.mean, label='PN+DRA')\n",
    "plt.ticklabel_format(style='sci', axis='y', scilimits=(0, 0))\n",
    "plt.xlabel(\"Batch size\", fontsize=18)\n",
    "plt.ylabel(\"Noise floor\", fontsize=18)\n",
    "plt.legend()\n",
    "plt.show()"
   ]
  },
  {
   "cell_type": "markdown",
   "metadata": {},
   "source": [
    "We see about 10% improvement in our detection limit with performing power normalization on top of the differential rolling averaging with the best results obtained when the batch size corresponds to 120 frames."
   ]
  }
 ],
 "metadata": {
  "hide_input": false,
  "kernelspec": {
   "display_name": "Python 3",
   "language": "python",
   "name": "python3"
  },
  "language_info": {
   "codemirror_mode": {
    "name": "ipython",
    "version": 3
   },
   "file_extension": ".py",
   "mimetype": "text/x-python",
   "name": "python",
   "nbconvert_exporter": "python",
   "pygments_lexer": "ipython3",
   "version": "3.7.5"
  }
 },
 "nbformat": 4,
 "nbformat_minor": 4
}
