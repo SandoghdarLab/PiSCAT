{
 "cells": [
  {
   "cell_type": "markdown",
   "metadata": {},
   "source": [
    "# Suppression of the laser light fluctuations in a wide-field iSCAT measurement \n",
    "In this tutorial, we normalize the recorded power in each video frame in order to suppress the temporal instability of the laser light. By doing so we also touch upon the usage of some of the very basic PiSCAT packages such as the  [InputOutput module](https://piscat.readthedocs.io/en/latest/code_reference.html#piscat-inputoutput) which provides functionalities for loading iSCAT videos and performing some basic checks on the acquisition process through the recorded meta-data. The [Visualization module](https://piscat.readthedocs.io/en/latest/code_reference.html#piscat-visualization) provides a variety of data visualization tools for inspecting iSCAT videos and presentating the analysis results. The normalization of laser light fluctuations is one of the early-stage analysis tools that are in the [Preprocessing module](https://piscat.readthedocs.io/en/latest/code_reference.html#piscat-preproccessing). Based on the number of available CPU cores for parallel processing, this tutorial needs 2-3 GB of computer memory (RAM) to run."
   ]
  },
  {
   "cell_type": "markdown",
   "metadata": {},
   "source": [
    "## Setting up the PiSCAT modules and downloading a demo iSCAT video"
   ]
  },
  {
   "cell_type": "code",
   "execution_count": 1,
   "metadata": {},
   "outputs": [
    {
     "name": "stdout",
     "output_type": "stream",
     "text": [
      "\n",
      "Directory  F:\\PiSCAT_GitHub_public\\PiSCAT\\Tutorials  already exists\n",
      "\n",
      "The directory with the name  Demo data  already exists in the following path: F:\\PiSCAT_GitHub_public\\PiSCAT\\Tutorials\n",
      "\n",
      "The data file named  Control  already exists in the following path: F:\\PiSCAT_GitHub_public\\PiSCAT\\Tutorials\\Demo data\n"
     ]
    },
    {
     "data": {
      "text/plain": [
       "<piscat.InputOutput.read_write_data.download_tutorial_data at 0x193f53d4788>"
      ]
     },
     "execution_count": 1,
     "metadata": {},
     "output_type": "execute_result"
    }
   ],
   "source": [
    "# Only to ignore warnings \n",
    "import warnings\n",
    "warnings.filterwarnings('ignore')\n",
    "\n",
    "# Setting up the path to the PiSCAT modules\n",
    "import os\n",
    "import sys\n",
    "current_path = os.path.abspath(os.path.join('..'))\n",
    "dir_path = os.path.dirname(current_path)\n",
    "module_path = os.path.join(dir_path)\n",
    "if module_path not in sys.path:\n",
    "    sys.path.append(module_path)\n",
    "    \n",
    "# Downloading a blank video for this tutorial\n",
    "from piscat.InputOutput import download_tutorial_data\n",
    "download_tutorial_data('control_video')"
   ]
  },
  {
   "cell_type": "markdown",
   "metadata": {},
   "source": [
    "## The binary iSCAT videos in a path and loading videos \n",
    "In this section, we tabulate all the image and video files of a certain data type which are available in a particular path and demonstrate how to read one exemplary video. We mainly use PhotonFocus cameras and store its recordings as binary files. Here we work on the video that was downloaded earlier. "
   ]
  },
  {
   "cell_type": "code",
   "execution_count": 2,
   "metadata": {},
   "outputs": [
    {
     "name": "stdout",
     "output_type": "stream",
     "text": [
      "Help on function video_reader in module piscat.InputOutput.reading_videos:\n",
      "\n",
      "video_reader(file_name, type='binary', img_width=128, img_height=128, image_type=dtype('float64'), s_frame=0, e_frame=-1)\n",
      "    This is a wrapper that can be used to call various video/image readers.\n",
      "    \n",
      "    Parameters\n",
      "    ----------\n",
      "    file_name: str\n",
      "        Path of video and file name, e.g. test.jpg.\n",
      "    \n",
      "    type: str\n",
      "        Define the video/image format to be loaded.\n",
      "    \n",
      "            * 'binary': use this flag to load binary\n",
      "            * 'tif': use this flag to load tif\n",
      "            * 'avi': use this flag to load avi\n",
      "            * 'png': use this flag to load png\n",
      "    \n",
      "    optional_parameters:\n",
      "        These parameters are used when video 'bin_type' define as binary.\n",
      "    \n",
      "        img_width: int\n",
      "             For binary images, it specifies the image width.\n",
      "    \n",
      "        img_height: int\n",
      "            For binary images, it specifies the image height.\n",
      "    \n",
      "        image_type: str\n",
      "            Numpy.dtype('<u2') --> video with uint16 pixels data type\n",
      "    \n",
      "            * \"i\"  (signed) integer, \"u\" unsigned integer, \"f\" floating-point\n",
      "            * \"<\" active little-endian\n",
      "            * \"1\" 8-bit, \"2\" 16-bit, \"4\" 32-bit, \"8\" 64-bit\n",
      "    \n",
      "        s_frame: int\n",
      "            Video reads from this frame. This is used for cropping a video.\n",
      "    \n",
      "        e_frame: int\n",
      "            Video reads until this frame. This is used for cropping a video.\n",
      "    \n",
      "    Returns\n",
      "    -------\n",
      "    @returns: NDArray\n",
      "        The video/image\n",
      "\n"
     ]
    }
   ],
   "source": [
    "import numpy as np\n",
    "from piscat.InputOutput import reading_videos\n",
    "\n",
    "#Setting up the path to a data set of the type 'raw' in a particular path 'data_path'\n",
    "data_path = os.path.join(dir_path, 'Tutorials', 'Demo data', 'Control')\n",
    "df_video = reading_videos.DirectoryType(data_path, type_file='raw').return_df()\n",
    "paths = df_video['Directory'].tolist()\n",
    "video_names = df_video['File'].tolist()\n",
    "\n",
    "#Choosing the first entry in the video list and loading it\n",
    "demo_video_path = os.path.join(paths[0], video_names[0])\n",
    "video = reading_videos.video_reader(file_name=demo_video_path, type='binary', img_width=128, img_height=128, \n",
    "                                    image_type=np.dtype('<u2'), s_frame=0, e_frame=-1)\n",
    "\n",
    "help(reading_videos.video_reader)#Calling help on an imported module/class to know more about it.\n"
   ]
  },
  {
   "cell_type": "markdown",
   "metadata": {},
   "source": [
    "## Display and inspect a loaded video\n",
    "As mentioned earlier, the [Visualization module](https://piscat.readthedocs.io/en/latest/code_reference.html#piscat-visualization) consists of several classes which provide display functionalities. Some of these classes may have the word `jupyter` in their name, for example, `display_jupyter`. The reason behind this is that such a class has functionalities similar to its twin class namely `display`, but adjusted to be used in Jupyter notebooks. The median filter flag passed as an argument to the display classes can be used to achieve a proper visualization of a video albeit having hot or dead pixels. In order to scroll left/right through the video frames, you can use the mouse wheel as well as the keyboard arrows button. The last line in these images is the meta-data of the measurement that the PhotonFocus camera records in each frame as the status-line.  "
   ]
  },
  {
   "cell_type": "code",
   "execution_count": 3,
   "metadata": {},
   "outputs": [
    {
     "name": "stdout",
     "output_type": "stream",
     "text": [
      "---Status line detected in column---\n"
     ]
    },
    {
     "data": {
      "application/vnd.jupyter.widget-view+json": {
       "model_id": "ba0df8ac69a34dfb8aa1887272aa68f9",
       "version_major": 2,
       "version_minor": 0
      },
      "text/plain": [
       "interactive(children=(IntSlider(value=10, continuous_update=False, description='Frame:', layout=Layout(width='…"
      ]
     },
     "metadata": {},
     "output_type": "display_data"
    },
    {
     "data": {
      "text/plain": [
       "<piscat.Visualization.display_jupyter.JupyterDisplay_StatusLine at 0x193f14e16c8>"
      ]
     },
     "execution_count": 3,
     "metadata": {},
     "output_type": "execute_result"
    }
   ],
   "source": [
    "#For Jupyter notebooks only:\n",
    "%matplotlib inline\n",
    "\n",
    "from piscat.Visualization import JupyterDisplay_StatusLine\n",
    "JupyterDisplay_StatusLine(video, median_filter_flag=False, color='gray', imgSizex=5, imgSizey=5, IntSlider_width='500px', \n",
    "                          step=1)"
   ]
  },
  {
   "cell_type": "markdown",
   "metadata": {},
   "source": [
    "## Examining the status line & removing it\n",
    "The status of the frame-acquisition process is encoded in the status line at the last row of an image. We check out the status line to make sure that all the images are recorded properly in high frame rate measurements. In such measurements, the acquisition buffer can overflow and some frames could be missed in the recording process."
   ]
  },
  {
   "cell_type": "code",
   "execution_count": 4,
   "metadata": {},
   "outputs": [
    {
     "name": "stdout",
     "output_type": "stream",
     "text": [
      "---Status line detected in column---\n"
     ]
    },
    {
     "data": {
      "application/vnd.jupyter.widget-view+json": {
       "model_id": "1dfdcee841d74223bb1f4ec274aaec2c",
       "version_major": 2,
       "version_minor": 0
      },
      "text/plain": [
       "interactive(children=(IntSlider(value=10, continuous_update=False, description='Frame:', layout=Layout(width='…"
      ]
     },
     "metadata": {},
     "output_type": "display_data"
    },
    {
     "data": {
      "text/plain": [
       "<piscat.Visualization.display_jupyter.JupyterDisplay at 0x1940035bdc8>"
      ]
     },
     "execution_count": 4,
     "metadata": {},
     "output_type": "execute_result"
    }
   ],
   "source": [
    "from piscat.InputOutput import read_status_line\n",
    "from piscat.Visualization import JupyterDisplay\n",
    "from IPython.display import display\n",
    "\n",
    "status_ = read_status_line.StatusLine(video)\n",
    "video_remove_status, status_information  = status_.find_status_line()\n",
    "\n",
    "JupyterDisplay(video_remove_status, median_filter_flag=False, color='gray', imgSizex=5, imgSizey=5, IntSlider_width='500px', \n",
    "               step=10)"
   ]
  },
  {
   "cell_type": "markdown",
   "metadata": {},
   "source": [
    "## Normalization of the power in the frames of a video\n",
    "The [Preprocessing module](https://piscat.readthedocs.io/en/latest/code_reference.html#piscat-preproccessing) provides several normalization techniques. In the following step, we correct for the fluctuations in the laser light intensity. The summation of all the pixels in an image is the recorded power $P$ in that frame which is then used to form the average frame power in a video through $\\overline{P}$. The corresponding normalization subroutine returns both the power normalized video and the fluctuations in power given by $P/\\overline{P} -1$. The fluctuating trend as demonstrated below is in the order of 1E-3 which is in and above the range of contrasts that we expect from single proteins of mass few tens of kDa."
   ]
  },
  {
   "cell_type": "code",
   "execution_count": 5,
   "metadata": {},
   "outputs": [
    {
     "name": "stdout",
     "output_type": "stream",
     "text": [
      "\n",
      "start power_normalized without parallel loop---> Done\n"
     ]
    },
    {
     "data": {
      "image/png": "[encoded data removed]",
      "text/plain": [
       "<Figure size 432x288 with 1 Axes>"
      ]
     },
     "metadata": {
      "needs_background": "light"
     },
     "output_type": "display_data"
    }
   ],
   "source": [
    "# Normalization of the power in the frames of a video\n",
    "from piscat.Preproccessing import Normalization\n",
    "video_pn, power_fluctuation = Normalization(video=video_remove_status).power_normalized()\n",
    "\n",
    "import matplotlib.pyplot as plt\n",
    "plt.plot(power_fluctuation, 'b', linewidth=1, markersize=0.5)\n",
    "plt.xlabel('Frame #', fontsize=18)\n",
    "plt.ylabel(r\"$p / \\bar p - 1$\", fontsize=18)\n",
    "plt.title('Intensity fluctuations in the laser beam', fontsize=13)\n",
    "plt.ticklabel_format(style='sci', axis='y', scilimits=(0, 0))"
   ]
  },
  {
   "cell_type": "markdown",
   "metadata": {},
   "source": [
    "## Save a video\n",
    "Finally, we save an analyzed video again as a binary file in order to demonstrate video writing functionalities of the [InputOutput module](https://piscat.readthedocs.io/en/latest/code_reference.html#piscat-inputoutput).  "
   ]
  },
  {
   "cell_type": "code",
   "execution_count": 6,
   "metadata": {},
   "outputs": [
    {
     "name": "stdout",
     "output_type": "stream",
     "text": [
      "Directory  20210430-184921  Created \n"
     ]
    }
   ],
   "source": [
    "from piscat.InputOutput import write_video\n",
    "write_video.write_binary(dir_path=data_path, file_name='demo_1_output.bin', data=video_remove_status, type='original')"
   ]
  }
 ],
 "metadata": {
  "hide_input": false,
  "kernelspec": {
   "display_name": "Python 3",
   "language": "python",
   "name": "python3"
  },
  "language_info": {
   "codemirror_mode": {
    "name": "ipython",
    "version": 3
   },
   "file_extension": ".py",
   "mimetype": "text/x-python",
   "name": "python",
   "nbconvert_exporter": "python",
   "pygments_lexer": "ipython3",
   "version": "3.7.5"
  }
 },
 "nbformat": 4,
 "nbformat_minor": 4
}
